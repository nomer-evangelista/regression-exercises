{
 "cells": [
  {
   "cell_type": "code",
   "execution_count": 20,
   "id": "cc4f849b-004d-4471-a0e4-545f7c717963",
   "metadata": {},
   "outputs": [],
   "source": [
    "import pandas as pd\n",
    "import numpy as np\n",
    "from sklearn.model_selection import train_test_split\n",
    "\n",
    "import matplotlib.pyplot as plt\n",
    "import seaborn as sns\n",
    "import os\n",
    "import env\n",
    "import wrangle\n",
    "\n",
    "import sys\n",
    "sys.path.append('/Users/nomer/codeup-data-science/Functions/')\n",
    "\n",
    "import function"
   ]
  },
  {
   "cell_type": "code",
   "execution_count": 11,
   "id": "bf54dc2c-d61e-44a5-88a3-889c455d21d2",
   "metadata": {
    "tags": []
   },
   "outputs": [
    {
     "name": "stdout",
     "output_type": "stream",
     "text": [
      "this file exists, reading from csv file\n"
     ]
    }
   ],
   "source": [
    "df = wrangle.wrangle_get_zillow()"
   ]
  },
  {
   "cell_type": "code",
   "execution_count": 10,
   "id": "5c9fe10d-b1de-4284-9491-61d29c8d4c0e",
   "metadata": {
    "tags": []
   },
   "outputs": [
    {
     "name": "stdout",
     "output_type": "stream",
     "text": [
      "<class 'pandas.core.frame.DataFrame'>\n",
      "Index: 2152863 entries, 0 to 2152862\n",
      "Data columns (total 7 columns):\n",
      " #   Column                        Dtype  \n",
      "---  ------                        -----  \n",
      " 0   bedroomcnt                    float64\n",
      " 1   bathroomcnt                   float64\n",
      " 2   calculatedfinishedsquarefeet  float64\n",
      " 3   taxvaluedollarcnt             float64\n",
      " 4   yearbuilt                     float64\n",
      " 5   taxamount                     float64\n",
      " 6   fips                          float64\n",
      "dtypes: float64(7)\n",
      "memory usage: 131.4 MB\n"
     ]
    }
   ],
   "source": [
    "df.info()"
   ]
  },
  {
   "cell_type": "code",
   "execution_count": 17,
   "id": "4add5089-eb7d-4ad3-ae61-3975a97c2bde",
   "metadata": {
    "tags": []
   },
   "outputs": [
    {
     "name": "stdout",
     "output_type": "stream",
     "text": [
      "<class 'pandas.core.frame.DataFrame'>\n",
      "Index: 2152863 entries, 0 to 2152862\n",
      "Data columns (total 7 columns):\n",
      " #   Column                        Non-Null Count    Dtype  \n",
      "---  ------                        --------------    -----  \n",
      " 0   bedroomcnt                    2152852 non-null  float64\n",
      " 1   bathroomcnt                   2152852 non-null  float64\n",
      " 2   calculatedfinishedsquarefeet  2144379 non-null  float64\n",
      " 3   taxvaluedollarcnt             2152370 non-null  float64\n",
      " 4   yearbuilt                     2143526 non-null  float64\n",
      " 5   taxamount                     2148421 non-null  float64\n",
      " 6   fips                          2152863 non-null  float64\n",
      "dtypes: float64(7)\n",
      "memory usage: 131.4 MB\n"
     ]
    }
   ],
   "source": [
    "df.info(verbose=True, show_counts=True)"
   ]
  },
  {
   "cell_type": "code",
   "execution_count": 18,
   "id": "30b45eff-5f61-4e81-9598-882c2c3999d3",
   "metadata": {
    "tags": []
   },
   "outputs": [
    {
     "data": {
      "text/html": [
       "<div>\n",
       "<style scoped>\n",
       "    .dataframe tbody tr th:only-of-type {\n",
       "        vertical-align: middle;\n",
       "    }\n",
       "\n",
       "    .dataframe tbody tr th {\n",
       "        vertical-align: top;\n",
       "    }\n",
       "\n",
       "    .dataframe thead th {\n",
       "        text-align: right;\n",
       "    }\n",
       "</style>\n",
       "<table border=\"1\" class=\"dataframe\">\n",
       "  <thead>\n",
       "    <tr style=\"text-align: right;\">\n",
       "      <th></th>\n",
       "      <th>count</th>\n",
       "      <th>mean</th>\n",
       "      <th>std</th>\n",
       "      <th>min</th>\n",
       "      <th>25%</th>\n",
       "      <th>50%</th>\n",
       "      <th>75%</th>\n",
       "      <th>max</th>\n",
       "    </tr>\n",
       "  </thead>\n",
       "  <tbody>\n",
       "    <tr>\n",
       "      <th>bedroomcnt</th>\n",
       "      <td>2152852.0</td>\n",
       "      <td>3.287196</td>\n",
       "      <td>0.954754</td>\n",
       "      <td>0.00</td>\n",
       "      <td>3.00</td>\n",
       "      <td>3.00</td>\n",
       "      <td>4.00</td>\n",
       "      <td>25.00</td>\n",
       "    </tr>\n",
       "    <tr>\n",
       "      <th>bathroomcnt</th>\n",
       "      <td>2152852.0</td>\n",
       "      <td>2.230688</td>\n",
       "      <td>0.999280</td>\n",
       "      <td>0.00</td>\n",
       "      <td>2.00</td>\n",
       "      <td>2.00</td>\n",
       "      <td>3.00</td>\n",
       "      <td>32.00</td>\n",
       "    </tr>\n",
       "    <tr>\n",
       "      <th>calculatedfinishedsquarefeet</th>\n",
       "      <td>2144379.0</td>\n",
       "      <td>1862.855178</td>\n",
       "      <td>1222.125124</td>\n",
       "      <td>1.00</td>\n",
       "      <td>1257.00</td>\n",
       "      <td>1623.00</td>\n",
       "      <td>2208.00</td>\n",
       "      <td>952576.00</td>\n",
       "    </tr>\n",
       "    <tr>\n",
       "      <th>taxvaluedollarcnt</th>\n",
       "      <td>2152370.0</td>\n",
       "      <td>461896.237963</td>\n",
       "      <td>699676.049600</td>\n",
       "      <td>1.00</td>\n",
       "      <td>188170.25</td>\n",
       "      <td>327671.00</td>\n",
       "      <td>534527.00</td>\n",
       "      <td>98428909.00</td>\n",
       "    </tr>\n",
       "    <tr>\n",
       "      <th>yearbuilt</th>\n",
       "      <td>2143526.0</td>\n",
       "      <td>1960.949681</td>\n",
       "      <td>22.162196</td>\n",
       "      <td>1801.00</td>\n",
       "      <td>1949.00</td>\n",
       "      <td>1958.00</td>\n",
       "      <td>1976.00</td>\n",
       "      <td>2016.00</td>\n",
       "    </tr>\n",
       "    <tr>\n",
       "      <th>taxamount</th>\n",
       "      <td>2148421.0</td>\n",
       "      <td>5634.865978</td>\n",
       "      <td>8178.910249</td>\n",
       "      <td>1.85</td>\n",
       "      <td>2534.98</td>\n",
       "      <td>4108.95</td>\n",
       "      <td>6414.32</td>\n",
       "      <td>1337755.86</td>\n",
       "    </tr>\n",
       "    <tr>\n",
       "      <th>fips</th>\n",
       "      <td>2152863.0</td>\n",
       "      <td>6048.377335</td>\n",
       "      <td>20.433292</td>\n",
       "      <td>6037.00</td>\n",
       "      <td>6037.00</td>\n",
       "      <td>6037.00</td>\n",
       "      <td>6059.00</td>\n",
       "      <td>6111.00</td>\n",
       "    </tr>\n",
       "  </tbody>\n",
       "</table>\n",
       "</div>"
      ],
      "text/plain": [
       "                                  count           mean            std  \\\n",
       "bedroomcnt                    2152852.0       3.287196       0.954754   \n",
       "bathroomcnt                   2152852.0       2.230688       0.999280   \n",
       "calculatedfinishedsquarefeet  2144379.0    1862.855178    1222.125124   \n",
       "taxvaluedollarcnt             2152370.0  461896.237963  699676.049600   \n",
       "yearbuilt                     2143526.0    1960.949681      22.162196   \n",
       "taxamount                     2148421.0    5634.865978    8178.910249   \n",
       "fips                          2152863.0    6048.377335      20.433292   \n",
       "\n",
       "                                  min        25%        50%        75%  \\\n",
       "bedroomcnt                       0.00       3.00       3.00       4.00   \n",
       "bathroomcnt                      0.00       2.00       2.00       3.00   \n",
       "calculatedfinishedsquarefeet     1.00    1257.00    1623.00    2208.00   \n",
       "taxvaluedollarcnt                1.00  188170.25  327671.00  534527.00   \n",
       "yearbuilt                     1801.00    1949.00    1958.00    1976.00   \n",
       "taxamount                        1.85    2534.98    4108.95    6414.32   \n",
       "fips                          6037.00    6037.00    6037.00    6059.00   \n",
       "\n",
       "                                      max  \n",
       "bedroomcnt                          25.00  \n",
       "bathroomcnt                         32.00  \n",
       "calculatedfinishedsquarefeet    952576.00  \n",
       "taxvaluedollarcnt             98428909.00  \n",
       "yearbuilt                         2016.00  \n",
       "taxamount                      1337755.86  \n",
       "fips                              6111.00  "
      ]
     },
     "execution_count": 18,
     "metadata": {},
     "output_type": "execute_result"
    }
   ],
   "source": [
    "#stats summary of numeric values\n",
    "df.describe().T"
   ]
  },
  {
   "cell_type": "code",
   "execution_count": 19,
   "id": "ee32abba-9647-41ad-9d2e-6f4e7dd981ba",
   "metadata": {
    "tags": []
   },
   "outputs": [],
   "source": [
    "# Handling Null values\n",
    "#let's turn our column values into a list\n",
    "col = df.columns.to_list()"
   ]
  },
  {
   "cell_type": "code",
   "execution_count": 20,
   "id": "a7ae117a-cc25-4167-8b9f-3312fa7e817d",
   "metadata": {
    "tags": []
   },
   "outputs": [
    {
     "data": {
      "text/plain": [
       "bedroomcnt                        11\n",
       "bathroomcnt                       11\n",
       "calculatedfinishedsquarefeet    8484\n",
       "taxvaluedollarcnt                493\n",
       "yearbuilt                       9337\n",
       "taxamount                       4442\n",
       "fips                               0\n",
       "dtype: int64"
      ]
     },
     "execution_count": 20,
     "metadata": {},
     "output_type": "execute_result"
    }
   ],
   "source": [
    "#are we dealing with any nulls?\n",
    "num_missing = df[col].isna().sum()\n",
    "num_missing"
   ]
  },
  {
   "cell_type": "code",
   "execution_count": 24,
   "id": "eb125898-94e1-4431-ab31-3270cd982639",
   "metadata": {
    "tags": []
   },
   "outputs": [
    {
     "data": {
      "text/plain": [
       "bedroomcnt                      0.000005\n",
       "bathroomcnt                     0.000005\n",
       "calculatedfinishedsquarefeet    0.003941\n",
       "taxvaluedollarcnt               0.000229\n",
       "yearbuilt                       0.004337\n",
       "taxamount                       0.002063\n",
       "fips                            0.000000\n",
       "dtype: float64"
      ]
     },
     "execution_count": 24,
     "metadata": {},
     "output_type": "execute_result"
    }
   ],
   "source": [
    "#what percent of my entire dataset is this?\n",
    "pct_missing = num_missing / df.shape[0]\n",
    "pct_missing"
   ]
  },
  {
   "cell_type": "code",
   "execution_count": 25,
   "id": "fccf310e-fd29-4146-9f43-6f2507f3ab95",
   "metadata": {
    "tags": []
   },
   "outputs": [
    {
     "name": "stdout",
     "output_type": "stream",
     "text": [
      "bedroomcnt\n",
      "bedroomcnt\n",
      "0.0      13187\n",
      "1.0      23166\n",
      "2.0     335473\n",
      "3.0     964298\n",
      "4.0     634289\n",
      "5.0     150866\n",
      "6.0      25166\n",
      "7.0       4807\n",
      "8.0       1107\n",
      "9.0        291\n",
      "10.0       121\n",
      "11.0        34\n",
      "12.0        12\n",
      "13.0        16\n",
      "14.0         7\n",
      "15.0         6\n",
      "16.0         2\n",
      "18.0         3\n",
      "25.0         1\n",
      "Name: count, dtype: int64\n",
      "\n",
      "bathroomcnt\n",
      "bathroomcnt\n",
      "0.00      13027\n",
      "0.50         16\n",
      "1.00     414324\n",
      "1.50      31211\n",
      "1.75          3\n",
      "2.00     943589\n",
      "2.50     142981\n",
      "3.00     422841\n",
      "3.50      28518\n",
      "4.00      82155\n",
      "4.50      19506\n",
      "5.00      28362\n",
      "5.50       6217\n",
      "6.00      10747\n",
      "6.50       1333\n",
      "7.00       4394\n",
      "7.50        384\n",
      "8.00       1692\n",
      "8.50        110\n",
      "9.00        713\n",
      "9.50         50\n",
      "10.00       325\n",
      "10.50        14\n",
      "11.00       146\n",
      "11.50         3\n",
      "12.00        73\n",
      "12.50         3\n",
      "13.00        39\n",
      "14.00        25\n",
      "14.50         1\n",
      "15.00        17\n",
      "16.00        12\n",
      "17.00         4\n",
      "18.00         8\n",
      "19.00         1\n",
      "19.50         1\n",
      "20.00         6\n",
      "32.00         1\n",
      "Name: count, dtype: int64\n",
      "\n",
      "calculatedfinishedsquarefeet\n",
      "calculatedfinishedsquarefeet\n",
      "1.0         6\n",
      "2.0         2\n",
      "3.0         7\n",
      "7.0         1\n",
      "10.0        2\n",
      "           ..\n",
      "52503.0     1\n",
      "59220.0     1\n",
      "63692.0     1\n",
      "531118.0    1\n",
      "952576.0    1\n",
      "Name: count, Length: 10580, dtype: int64\n",
      "\n",
      "taxvaluedollarcnt\n",
      "taxvaluedollarcnt\n",
      "1.0           3\n",
      "2.0           1\n",
      "4.0           2\n",
      "5.0           4\n",
      "6.0           1\n",
      "             ..\n",
      "71067500.0    1\n",
      "83196095.0    1\n",
      "88020448.0    1\n",
      "90188462.0    1\n",
      "98428909.0    1\n",
      "Name: count, Length: 592269, dtype: int64\n",
      "\n",
      "yearbuilt\n",
      "yearbuilt\n",
      "1801.0       3\n",
      "1807.0       1\n",
      "1812.0       2\n",
      "1823.0       1\n",
      "1833.0       1\n",
      "          ... \n",
      "2012.0    3438\n",
      "2013.0    4784\n",
      "2014.0    4714\n",
      "2015.0    3556\n",
      "2016.0      98\n",
      "Name: count, Length: 153, dtype: int64\n",
      "\n",
      "taxamount\n",
      "taxamount\n",
      "1.85          1\n",
      "5.78          1\n",
      "6.00          1\n",
      "6.18          1\n",
      "6.34          1\n",
      "             ..\n",
      "1052070.50    1\n",
      "1078101.87    1\n",
      "1195295.62    1\n",
      "1310824.04    1\n",
      "1337755.86    1\n",
      "Name: count, Length: 918838, dtype: int64\n",
      "\n",
      "fips\n",
      "fips\n",
      "6037.0    1431811\n",
      "6059.0     555077\n",
      "6111.0     165975\n",
      "Name: count, dtype: int64\n",
      "\n"
     ]
    }
   ],
   "source": [
    "#confirm whole numbers\n",
    "for col in df.columns:\n",
    "    print(col)\n",
    "    print(df[col].value_counts().sort_index())\n",
    "    print()"
   ]
  },
  {
   "cell_type": "code",
   "execution_count": 27,
   "id": "a1615e19-0a33-4e7e-93b7-19f6c046a163",
   "metadata": {
    "tags": []
   },
   "outputs": [
    {
     "data": {
      "text/plain": [
       "True"
      ]
     },
     "execution_count": 27,
     "metadata": {},
     "output_type": "execute_result"
    }
   ],
   "source": [
    "#possibly an easier way to do this... create a lamda function\n",
    "#let's see if there are any fractions in bathrooms\n",
    "has_non_zero_decimal = df['bathroomcnt'].apply(lambda x: x % 1 != 0)\n",
    "has_non_zero_decimal.any()"
   ]
  },
  {
   "cell_type": "code",
   "execution_count": 28,
   "id": "7be7ce4f-1301-49f4-b306-6f194960ab12",
   "metadata": {
    "tags": []
   },
   "outputs": [
    {
     "data": {
      "text/plain": [
       "230362"
      ]
     },
     "execution_count": 28,
     "metadata": {},
     "output_type": "execute_result"
    }
   ],
   "source": [
    "#how many?\n",
    "has_non_zero_decimal.sum()"
   ]
  },
  {
   "cell_type": "code",
   "execution_count": 30,
   "id": "9bdad4e0-c78d-46d9-87bd-2f0a0e8b3012",
   "metadata": {
    "tags": []
   },
   "outputs": [],
   "source": [
    "# #put it all together for all the columns \n",
    "# ##so we can make sure those floats should be integers\n",
    "\n",
    "# #include these columns\n",
    "# columns_to_check = ['bedrooms', 'bathrooms', 'area', 'taxvalue', 'yearbuilt', 'taxamount', 'county']\n",
    "\n",
    "# # create a dictionary to store the count of non-zero decimal places for each column\n",
    "# count_of_non_zero_decimal = {}\n",
    "\n",
    "# # iterate through columns and check for non-zero decimal places\n",
    "# for column in columns_to_check:\n",
    "#     has_non_zero_decimal = (df[column] % 1 != 0).sum()\n",
    "    \n",
    "#     # store the count in the dictionary\n",
    "#     count_of_non_zero_decimal[column] = has_non_zero_decimal\n",
    "\n",
    "# # display the count of non-zero decimal places for each column\n",
    "# print(\"Count of Non-Zero Decimal Places in Each Column:\")\n",
    "# for column, count in count_of_non_zero_decimal.items():\n",
    "#     print(f\"{column}: {count}\")"
   ]
  },
  {
   "cell_type": "code",
   "execution_count": 32,
   "id": "d55e079a-c320-49b5-a0ae-f09ec287e33a",
   "metadata": {
    "tags": []
   },
   "outputs": [],
   "source": [
    "# #columns we want to be integers\n",
    "# make_ints = ['bedrooms','area','taxvalue','yearbuilt','county']"
   ]
  },
  {
   "cell_type": "code",
   "execution_count": 34,
   "id": "e4976c2b-0ae7-4524-ac10-09e93bb6f31e",
   "metadata": {
    "tags": []
   },
   "outputs": [],
   "source": [
    "# #look through them to change the datatype\n",
    "# for col in make_ints:\n",
    "#     df[col] = df[col].astype(int)"
   ]
  },
  {
   "cell_type": "code",
   "execution_count": 36,
   "id": "1493b412-4eb6-42ad-b247-ba0293bbb7a2",
   "metadata": {
    "tags": []
   },
   "outputs": [],
   "source": [
    "# #rename those columns\n",
    "# df.county = df.county.map({6037:'LA',6059:'Orange',6111:'Ventura'})"
   ]
  },
  {
   "cell_type": "markdown",
   "id": "71c94faf-7217-41a4-88cc-0dcc218ef473",
   "metadata": {},
   "source": [
    "> #### Visualize Data"
   ]
  },
  {
   "cell_type": "code",
   "execution_count": 38,
   "id": "6eaf66fb-19df-462d-98df-e7f5ed191e9c",
   "metadata": {
    "tags": []
   },
   "outputs": [
    {
     "data": {
      "image/png": "[encoded data removed]",
      "text/plain": [
       "<Figure size 1600x600 with 7 Axes>"
      ]
     },
     "metadata": {},
     "output_type": "display_data"
    }
   ],
   "source": [
    "plt.figure(figsize=(16, 6))\n",
    "\n",
    "for i, col in enumerate(df.columns):\n",
    "\n",
    "    # i starts at 0, but plot nos should start at 1\n",
    "    plot_number = i + 1 \n",
    "\n",
    "    # Create subplot.\n",
    "    plt.subplot(2, 4, plot_number)\n",
    "\n",
    "    # Title with column name.\n",
    "    plt.title(col)\n",
    "\n",
    "    # Display boxplot for column.\n",
    "    plt.hist(df[col])\n",
    "\n",
    "plt.show();"
   ]
  },
  {
   "cell_type": "code",
   "execution_count": 39,
   "id": "15fdf7cb-c7ab-4a19-87cb-6a7788368b61",
   "metadata": {
    "tags": []
   },
   "outputs": [
    {
     "name": "stdout",
     "output_type": "stream",
     "text": [
      "bedroomcnt\n"
     ]
    },
    {
     "data": {
      "image/png": "[encoded data removed]",
      "text/plain": [
       "<Figure size 640x480 with 1 Axes>"
      ]
     },
     "metadata": {},
     "output_type": "display_data"
    },
    {
     "name": "stdout",
     "output_type": "stream",
     "text": [
      "bathroomcnt\n"
     ]
    },
    {
     "data": {
      "image/png": "[encoded data removed]",
      "text/plain": [
       "<Figure size 640x480 with 1 Axes>"
      ]
     },
     "metadata": {},
     "output_type": "display_data"
    },
    {
     "name": "stdout",
     "output_type": "stream",
     "text": [
      "calculatedfinishedsquarefeet\n"
     ]
    },
    {
     "data": {
      "image/png": "[encoded data removed]",
      "text/plain": [
       "<Figure size 640x480 with 1 Axes>"
      ]
     },
     "metadata": {},
     "output_type": "display_data"
    },
    {
     "name": "stdout",
     "output_type": "stream",
     "text": [
      "taxvaluedollarcnt\n"
     ]
    },
    {
     "data": {
      "image/png": "[encoded data removed]",
      "text/plain": [
       "<Figure size 640x480 with 1 Axes>"
      ]
     },
     "metadata": {},
     "output_type": "display_data"
    },
    {
     "name": "stdout",
     "output_type": "stream",
     "text": [
      "yearbuilt\n"
     ]
    },
    {
     "data": {
      "image/png": "[encoded data removed]",
      "text/plain": [
       "<Figure size 640x480 with 1 Axes>"
      ]
     },
     "metadata": {},
     "output_type": "display_data"
    },
    {
     "name": "stdout",
     "output_type": "stream",
     "text": [
      "taxamount\n"
     ]
    },
    {
     "data": {
      "image/png": "[encoded data removed]",
      "text/plain": [
       "<Figure size 640x480 with 1 Axes>"
      ]
     },
     "metadata": {},
     "output_type": "display_data"
    }
   ],
   "source": [
    "for col in df.columns[:-1]:\n",
    "    print(col)\n",
    "    sns.boxplot(data=df, x=col)\n",
    "    plt.show();\n",
    "    \n",
    "    # print(df[col].value_counts().sort_index())\n",
    "    # print()"
   ]
  },
  {
   "cell_type": "code",
   "execution_count": null,
   "id": "787a3bec-6313-49b0-ab2f-160a7cc3049b",
   "metadata": {},
   "outputs": [],
   "source": [
    "# def get_zillow_data():\n",
    "#     '''\n",
    "#     This function acquires zillow.csv it is available\n",
    "#     otherwise, it makes the SQL connection and uses the query provided\n",
    "#     to read in the dataframe from SQL.\n",
    "#     If they csv is not present, it will write one.\n",
    "#     '''\n",
    "#     filename = \"zillow.csv\"\n",
    "\n",
    "#     if os.path.isfile(filename):\n",
    "\n",
    "#         return pd.read_csv(filename, index_col=0)\n",
    "#     else:\n",
    "#         # Create the url\n",
    "#         url = env.get_db_url('zillow')\n",
    "        \n",
    "#         sql_query = '''\n",
    "#             SELECT bedroomcnt, bathroomcnt, calculatedfinishedsquarefeet, taxvaluedollarcnt, yearbuilt, taxamount, fips\n",
    "#             FROM properties_2017\n",
    "#             WHERE propertylandusetypeid = 261'''\n",
    "\n",
    "#         # Read the SQL query into a dataframe\n",
    "#         df = pd.read_sql(zillow_query, url)\n",
    "\n",
    "#         # Write that dataframe to disk for later. Called \"caching\" the data for later.\n",
    "#         df.to_csv(filename)\n",
    "\n",
    "#         # Return the dataframe to the calling code\n",
    "#         return df"
   ]
  },
  {
   "cell_type": "code",
   "execution_count": null,
   "id": "a82f60eb-9cbf-4a05-bedf-14e1eb7871af",
   "metadata": {},
   "outputs": [],
   "source": [
    "# def prep_zillow(df):\n",
    "#     '''\n",
    "#     This function takes in a dataframe\n",
    "#     renames the columns and drops nulls values\n",
    "#     Additionally it changes datatypes for appropriate columns\n",
    "#     and renames fips to actual county names.\n",
    "#     Then returns a cleaned dataframe\n",
    "#     '''\n",
    "#     df = df.rename(columns = {'bedroomcnt':'bedrooms',\n",
    "#                      'bathroomcnt':'bathrooms',\n",
    "#                      'calculatedfinishedsquarefeet':'area',\n",
    "#                      'taxvaluedollarcnt':'taxvalue',\n",
    "#                      'fips':'county'})\n",
    "    \n",
    "#     df = df.dropna()\n",
    "    \n",
    "#     make_ints = ['bedrooms','area','taxvalue','yearbuilt']\n",
    "\n",
    "#     for col in make_ints:\n",
    "#         df[col] = df[col].astype(int)\n",
    "        \n",
    "#     df.county = df.county.map({6037:'LA',6059:'Orange',6111:'Ventura'})\n",
    "    \n",
    "#     return df"
   ]
  },
  {
   "cell_type": "code",
   "execution_count": null,
   "id": "e39bb6aa-3eb4-4e8e-b929-135438c729e2",
   "metadata": {},
   "outputs": [],
   "source": []
  },
  {
   "cell_type": "code",
   "execution_count": null,
   "id": "7babf6df-753d-4e59-82c9-694a3efcf91e",
   "metadata": {},
   "outputs": [],
   "source": []
  },
  {
   "cell_type": "code",
   "execution_count": 5,
   "id": "6abcb49a-b100-4419-8342-bf6558113669",
   "metadata": {
    "tags": []
   },
   "outputs": [],
   "source": [
    "df = wrangle.clean_zillow(df)"
   ]
  },
  {
   "cell_type": "code",
   "execution_count": 6,
   "id": "449f5f8d-f484-400b-b3df-7a4b624b5300",
   "metadata": {
    "tags": []
   },
   "outputs": [
    {
     "name": "stdout",
     "output_type": "stream",
     "text": [
      "<class 'pandas.core.frame.DataFrame'>\n",
      "Index: 2140235 entries, 4 to 2152862\n",
      "Data columns (total 7 columns):\n",
      " #   Column     Dtype  \n",
      "---  ------     -----  \n",
      " 0   bedroom    float64\n",
      " 1   bathroom   float64\n",
      " 2   square_ft  float64\n",
      " 3   tax_value  float64\n",
      " 4   yr_built   int64  \n",
      " 5   tax        float64\n",
      " 6   fips       float64\n",
      "dtypes: float64(6), int64(1)\n",
      "memory usage: 130.6 MB\n"
     ]
    }
   ],
   "source": [
    "df.info()"
   ]
  },
  {
   "cell_type": "code",
   "execution_count": 8,
   "id": "be08a77b-d22d-4cb6-a7df-1f7ae5e6d4a1",
   "metadata": {
    "tags": []
   },
   "outputs": [],
   "source": [
    "train, validate, test = wrangle.splitting_data(df)"
   ]
  },
  {
   "cell_type": "code",
   "execution_count": 9,
   "id": "2bde3909-5a3a-4560-967a-3097645d7b0f",
   "metadata": {
    "tags": []
   },
   "outputs": [
    {
     "data": {
      "text/html": [
       "<div>\n",
       "<style scoped>\n",
       "    .dataframe tbody tr th:only-of-type {\n",
       "        vertical-align: middle;\n",
       "    }\n",
       "\n",
       "    .dataframe tbody tr th {\n",
       "        vertical-align: top;\n",
       "    }\n",
       "\n",
       "    .dataframe thead th {\n",
       "        text-align: right;\n",
       "    }\n",
       "</style>\n",
       "<table border=\"1\" class=\"dataframe\">\n",
       "  <thead>\n",
       "    <tr style=\"text-align: right;\">\n",
       "      <th></th>\n",
       "      <th>bedroom</th>\n",
       "      <th>bathroom</th>\n",
       "      <th>square_ft</th>\n",
       "      <th>tax_value</th>\n",
       "      <th>yr_built</th>\n",
       "      <th>tax</th>\n",
       "      <th>fips</th>\n",
       "    </tr>\n",
       "  </thead>\n",
       "  <tbody>\n",
       "    <tr>\n",
       "      <th>462820</th>\n",
       "      <td>5.0</td>\n",
       "      <td>4.0</td>\n",
       "      <td>3011.0</td>\n",
       "      <td>710674.0</td>\n",
       "      <td>2005</td>\n",
       "      <td>7561.14</td>\n",
       "      <td>6111.0</td>\n",
       "    </tr>\n",
       "    <tr>\n",
       "      <th>3880</th>\n",
       "      <td>3.0</td>\n",
       "      <td>2.0</td>\n",
       "      <td>1682.0</td>\n",
       "      <td>603333.0</td>\n",
       "      <td>1961</td>\n",
       "      <td>7086.19</td>\n",
       "      <td>6037.0</td>\n",
       "    </tr>\n",
       "    <tr>\n",
       "      <th>992263</th>\n",
       "      <td>4.0</td>\n",
       "      <td>2.0</td>\n",
       "      <td>1433.0</td>\n",
       "      <td>82804.0</td>\n",
       "      <td>1954</td>\n",
       "      <td>1134.83</td>\n",
       "      <td>6037.0</td>\n",
       "    </tr>\n",
       "    <tr>\n",
       "      <th>311722</th>\n",
       "      <td>3.0</td>\n",
       "      <td>2.5</td>\n",
       "      <td>2001.0</td>\n",
       "      <td>355444.0</td>\n",
       "      <td>1999</td>\n",
       "      <td>4174.92</td>\n",
       "      <td>6111.0</td>\n",
       "    </tr>\n",
       "    <tr>\n",
       "      <th>787985</th>\n",
       "      <td>4.0</td>\n",
       "      <td>2.0</td>\n",
       "      <td>2277.0</td>\n",
       "      <td>571000.0</td>\n",
       "      <td>1962</td>\n",
       "      <td>7113.02</td>\n",
       "      <td>6037.0</td>\n",
       "    </tr>\n",
       "  </tbody>\n",
       "</table>\n",
       "</div>"
      ],
      "text/plain": [
       "        bedroom  bathroom  square_ft  tax_value  yr_built      tax    fips\n",
       "462820      5.0       4.0     3011.0   710674.0      2005  7561.14  6111.0\n",
       "3880        3.0       2.0     1682.0   603333.0      1961  7086.19  6037.0\n",
       "992263      4.0       2.0     1433.0    82804.0      1954  1134.83  6037.0\n",
       "311722      3.0       2.5     2001.0   355444.0      1999  4174.92  6111.0\n",
       "787985      4.0       2.0     2277.0   571000.0      1962  7113.02  6037.0"
      ]
     },
     "execution_count": 9,
     "metadata": {},
     "output_type": "execute_result"
    }
   ],
   "source": [
    "train.head()"
   ]
  },
  {
   "cell_type": "code",
   "execution_count": 2,
   "id": "0e27369d-9c57-43d0-a2de-ee8f6c04e88f",
   "metadata": {
    "tags": []
   },
   "outputs": [
    {
     "name": "stdout",
     "output_type": "stream",
     "text": [
      "this file exists, reading from csv file\n"
     ]
    }
   ],
   "source": [
    "train, validate, test = wrangle.wrangle_zillow(wrangle.clean_zillow(wrangle.wrangle_get_zillow()))"
   ]
  },
  {
   "cell_type": "code",
   "execution_count": 13,
   "id": "bd22b3b4-49e5-4ee4-8c9c-d0d9d77dfd5c",
   "metadata": {},
   "outputs": [
    {
     "data": {
      "text/plain": [
       "(1284141, 7)"
      ]
     },
     "execution_count": 13,
     "metadata": {},
     "output_type": "execute_result"
    }
   ],
   "source": [
    "train.shape"
   ]
  },
  {
   "cell_type": "code",
   "execution_count": 14,
   "id": "17f035c7-cae9-4504-bb36-eac910e0996c",
   "metadata": {
    "tags": []
   },
   "outputs": [
    {
     "data": {
      "text/plain": [
       "(428047, 7)"
      ]
     },
     "execution_count": 14,
     "metadata": {},
     "output_type": "execute_result"
    }
   ],
   "source": [
    "validate.shape"
   ]
  },
  {
   "cell_type": "code",
   "execution_count": 3,
   "id": "89d92a54-11ab-4efc-a918-8edfae84bfd2",
   "metadata": {
    "tags": []
   },
   "outputs": [
    {
     "name": "stdout",
     "output_type": "stream",
     "text": [
      "this file exists, reading from csv file\n"
     ]
    }
   ],
   "source": [
    "train, validate, test = wrangle.wrangle_zillow(wrangle.clean_zillow(wrangle.wrangle_get_zillow()))"
   ]
  },
  {
   "cell_type": "code",
   "execution_count": 3,
   "id": "da6f25a1-805c-48df-b0cb-40afbd2fa6be",
   "metadata": {
    "tags": []
   },
   "outputs": [
    {
     "data": {
      "text/html": [
       "<div>\n",
       "<style scoped>\n",
       "    .dataframe tbody tr th:only-of-type {\n",
       "        vertical-align: middle;\n",
       "    }\n",
       "\n",
       "    .dataframe tbody tr th {\n",
       "        vertical-align: top;\n",
       "    }\n",
       "\n",
       "    .dataframe thead th {\n",
       "        text-align: right;\n",
       "    }\n",
       "</style>\n",
       "<table border=\"1\" class=\"dataframe\">\n",
       "  <thead>\n",
       "    <tr style=\"text-align: right;\">\n",
       "      <th></th>\n",
       "      <th>bedroom</th>\n",
       "      <th>bathroom</th>\n",
       "      <th>square_ft</th>\n",
       "      <th>tax_value</th>\n",
       "      <th>yr_built</th>\n",
       "      <th>tax</th>\n",
       "      <th>county</th>\n",
       "    </tr>\n",
       "  </thead>\n",
       "  <tbody>\n",
       "    <tr>\n",
       "      <th>462820</th>\n",
       "      <td>5.0</td>\n",
       "      <td>4.0</td>\n",
       "      <td>3011.0</td>\n",
       "      <td>710674.0</td>\n",
       "      <td>2005</td>\n",
       "      <td>7561.14</td>\n",
       "      <td>6111.0</td>\n",
       "    </tr>\n",
       "    <tr>\n",
       "      <th>3880</th>\n",
       "      <td>3.0</td>\n",
       "      <td>2.0</td>\n",
       "      <td>1682.0</td>\n",
       "      <td>603333.0</td>\n",
       "      <td>1961</td>\n",
       "      <td>7086.19</td>\n",
       "      <td>6037.0</td>\n",
       "    </tr>\n",
       "    <tr>\n",
       "      <th>992263</th>\n",
       "      <td>4.0</td>\n",
       "      <td>2.0</td>\n",
       "      <td>1433.0</td>\n",
       "      <td>82804.0</td>\n",
       "      <td>1954</td>\n",
       "      <td>1134.83</td>\n",
       "      <td>6037.0</td>\n",
       "    </tr>\n",
       "    <tr>\n",
       "      <th>311722</th>\n",
       "      <td>3.0</td>\n",
       "      <td>2.5</td>\n",
       "      <td>2001.0</td>\n",
       "      <td>355444.0</td>\n",
       "      <td>1999</td>\n",
       "      <td>4174.92</td>\n",
       "      <td>6111.0</td>\n",
       "    </tr>\n",
       "    <tr>\n",
       "      <th>787985</th>\n",
       "      <td>4.0</td>\n",
       "      <td>2.0</td>\n",
       "      <td>2277.0</td>\n",
       "      <td>571000.0</td>\n",
       "      <td>1962</td>\n",
       "      <td>7113.02</td>\n",
       "      <td>6037.0</td>\n",
       "    </tr>\n",
       "  </tbody>\n",
       "</table>\n",
       "</div>"
      ],
      "text/plain": [
       "        bedroom  bathroom  square_ft  tax_value  yr_built      tax  county\n",
       "462820      5.0       4.0     3011.0   710674.0      2005  7561.14  6111.0\n",
       "3880        3.0       2.0     1682.0   603333.0      1961  7086.19  6037.0\n",
       "992263      4.0       2.0     1433.0    82804.0      1954  1134.83  6037.0\n",
       "311722      3.0       2.5     2001.0   355444.0      1999  4174.92  6111.0\n",
       "787985      4.0       2.0     2277.0   571000.0      1962  7113.02  6037.0"
      ]
     },
     "execution_count": 3,
     "metadata": {},
     "output_type": "execute_result"
    }
   ],
   "source": [
    "train.head()"
   ]
  },
  {
   "cell_type": "code",
   "execution_count": null,
   "id": "02b890dc-2b04-4b65-8ebd-a1cfd779264f",
   "metadata": {},
   "outputs": [],
   "source": []
  },
  {
   "cell_type": "code",
   "execution_count": null,
   "id": "02fa97bd-9233-42e5-b0b6-3eabc21b8008",
   "metadata": {},
   "outputs": [],
   "source": []
  },
  {
   "cell_type": "code",
   "execution_count": null,
   "id": "c3bc1f49-49bf-42e6-9211-3b7af3746b36",
   "metadata": {},
   "outputs": [],
   "source": []
  },
  {
   "cell_type": "code",
   "execution_count": null,
   "id": "af3ef23f-764b-454b-b186-0415d356e035",
   "metadata": {},
   "outputs": [],
   "source": []
  }
 ],
 "metadata": {
  "kernelspec": {
   "display_name": "Python 3 (ipykernel)",
   "language": "python",
   "name": "python3"
  },
  "language_info": {
   "codemirror_mode": {
    "name": "ipython",
    "version": 3
   },
   "file_extension": ".py",
   "mimetype": "text/x-python",
   "name": "python",
   "nbconvert_exporter": "python",
   "pygments_lexer": "ipython3",
   "version": "3.11.5"
  }
 },
 "nbformat": 4,
 "nbformat_minor": 5
}
