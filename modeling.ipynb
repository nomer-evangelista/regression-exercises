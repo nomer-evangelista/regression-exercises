{
 "cells": [
  {
   "cell_type": "code",
   "execution_count": 3,
   "id": "2d183e52-66c3-4289-88ea-83bc8876b362",
   "metadata": {
    "tags": []
   },
   "outputs": [],
   "source": [
    "import pandas as pd\n",
    "import numpy as np\n",
    "\n",
    "import matplotlib.pylab as plt\n",
    "import seaborn as sns\n",
    "from sklearn.model_selection import train_test_split\n",
    "from scipy import stats\n",
    "from sklearn.preprocessing import MinMaxScaler, StandardScaler, RobustScaler\n",
    "from sklearn.preprocessing import QuantileTransformer\n",
    "from pydataset import data\n",
    "from sklearn.feature_selection import SelectKBest, RFE, f_regression, SequentialFeatureSelector\n",
    "from sklearn.preprocessing import OneHotEncoder\n",
    "\n",
    "from sklearn.metrics import mean_squared_error, explained_variance_score, r2_score\n",
    "from sklearn.linear_model import LinearRegression, LassoLars, TweedieRegressor\n",
    "from sklearn.preprocessing import PolynomialFeatures\n",
    "from sklearn.feature_selection import SelectKBest, RFE, f_regression, SequentialFeatureSelector\n",
    "\n",
    "\n",
    "import warnings\n",
    "warnings.filterwarnings(\"ignore\")\n",
    "\n",
    "import sys\n",
    "sys.path.append('/Users/nomer/codeup-data-science/Functions')\n",
    "import function\n",
    "\n",
    "import wrangle\n",
    "import env\n",
    "import explore\n",
    "import feature_engineering\n",
    "import regression_function"
   ]
  },
  {
   "cell_type": "code",
   "execution_count": 4,
   "id": "3a2a2422-926f-4363-b0fd-48b142663067",
   "metadata": {
    "tags": []
   },
   "outputs": [
    {
     "name": "stdout",
     "output_type": "stream",
     "text": [
      "this file exists, reading from csv file\n"
     ]
    }
   ],
   "source": [
    "df = wrangle.clean_zillow(wrangle.wrangle_get_zillow())"
   ]
  },
  {
   "cell_type": "code",
   "execution_count": 5,
   "id": "2498b9b1-1af6-4021-93c0-3c074870db72",
   "metadata": {
    "tags": []
   },
   "outputs": [
    {
     "data": {
      "text/html": [
       "<div>\n",
       "<style scoped>\n",
       "    .dataframe tbody tr th:only-of-type {\n",
       "        vertical-align: middle;\n",
       "    }\n",
       "\n",
       "    .dataframe tbody tr th {\n",
       "        vertical-align: top;\n",
       "    }\n",
       "\n",
       "    .dataframe thead th {\n",
       "        text-align: right;\n",
       "    }\n",
       "</style>\n",
       "<table border=\"1\" class=\"dataframe\">\n",
       "  <thead>\n",
       "    <tr style=\"text-align: right;\">\n",
       "      <th></th>\n",
       "      <th>bedroom</th>\n",
       "      <th>bathroom</th>\n",
       "      <th>square_ft</th>\n",
       "      <th>property_value</th>\n",
       "      <th>yr_built</th>\n",
       "      <th>tax</th>\n",
       "      <th>county</th>\n",
       "    </tr>\n",
       "  </thead>\n",
       "  <tbody>\n",
       "    <tr>\n",
       "      <th>4</th>\n",
       "      <td>4.0</td>\n",
       "      <td>2.0</td>\n",
       "      <td>3633.0</td>\n",
       "      <td>296425.0</td>\n",
       "      <td>2005</td>\n",
       "      <td>6941.39</td>\n",
       "      <td>LA</td>\n",
       "    </tr>\n",
       "    <tr>\n",
       "      <th>6</th>\n",
       "      <td>3.0</td>\n",
       "      <td>4.0</td>\n",
       "      <td>1620.0</td>\n",
       "      <td>847770.0</td>\n",
       "      <td>2011</td>\n",
       "      <td>10244.94</td>\n",
       "      <td>LA</td>\n",
       "    </tr>\n",
       "    <tr>\n",
       "      <th>7</th>\n",
       "      <td>3.0</td>\n",
       "      <td>2.0</td>\n",
       "      <td>2077.0</td>\n",
       "      <td>646760.0</td>\n",
       "      <td>1926</td>\n",
       "      <td>7924.68</td>\n",
       "      <td>LA</td>\n",
       "    </tr>\n",
       "    <tr>\n",
       "      <th>11</th>\n",
       "      <td>0.0</td>\n",
       "      <td>0.0</td>\n",
       "      <td>1200.0</td>\n",
       "      <td>5328.0</td>\n",
       "      <td>1972</td>\n",
       "      <td>91.60</td>\n",
       "      <td>LA</td>\n",
       "    </tr>\n",
       "    <tr>\n",
       "      <th>14</th>\n",
       "      <td>0.0</td>\n",
       "      <td>0.0</td>\n",
       "      <td>171.0</td>\n",
       "      <td>6920.0</td>\n",
       "      <td>1973</td>\n",
       "      <td>255.17</td>\n",
       "      <td>LA</td>\n",
       "    </tr>\n",
       "  </tbody>\n",
       "</table>\n",
       "</div>"
      ],
      "text/plain": [
       "    bedroom  bathroom  square_ft  property_value  yr_built       tax county\n",
       "4       4.0       2.0     3633.0        296425.0      2005   6941.39     LA\n",
       "6       3.0       4.0     1620.0        847770.0      2011  10244.94     LA\n",
       "7       3.0       2.0     2077.0        646760.0      1926   7924.68     LA\n",
       "11      0.0       0.0     1200.0          5328.0      1972     91.60     LA\n",
       "14      0.0       0.0      171.0          6920.0      1973    255.17     LA"
      ]
     },
     "execution_count": 5,
     "metadata": {},
     "output_type": "execute_result"
    }
   ],
   "source": [
    "df.head()"
   ]
  },
  {
   "cell_type": "code",
   "execution_count": 6,
   "id": "4b32ccb1-f063-4936-a82c-efc5f81fac91",
   "metadata": {
    "tags": []
   },
   "outputs": [
    {
     "data": {
      "text/html": [
       "<div>\n",
       "<style scoped>\n",
       "    .dataframe tbody tr th:only-of-type {\n",
       "        vertical-align: middle;\n",
       "    }\n",
       "\n",
       "    .dataframe tbody tr th {\n",
       "        vertical-align: top;\n",
       "    }\n",
       "\n",
       "    .dataframe thead th {\n",
       "        text-align: right;\n",
       "    }\n",
       "</style>\n",
       "<table border=\"1\" class=\"dataframe\">\n",
       "  <thead>\n",
       "    <tr style=\"text-align: right;\">\n",
       "      <th></th>\n",
       "      <th>Column Name</th>\n",
       "      <th>Number of Unique Values</th>\n",
       "      <th>Unique Values</th>\n",
       "      <th>Number of Null Values</th>\n",
       "      <th>Proportion of Null Values</th>\n",
       "      <th>dtype</th>\n",
       "    </tr>\n",
       "  </thead>\n",
       "  <tbody>\n",
       "    <tr>\n",
       "      <th>0</th>\n",
       "      <td>bedroom</td>\n",
       "      <td>19</td>\n",
       "      <td>[4.0, 3.0, 0.0, 5.0, 2.0, 1.0, 6.0, 7.0, 8.0, 9.0, 25.0, 10.0, 11.0, 14.0, 15.0, 13.0,...</td>\n",
       "      <td>0</td>\n",
       "      <td>0.0</td>\n",
       "      <td>float64</td>\n",
       "    </tr>\n",
       "    <tr>\n",
       "      <th>1</th>\n",
       "      <td>bathroom</td>\n",
       "      <td>38</td>\n",
       "      <td>[2.0, 4.0, 0.0, 1.0, 2.5, 3.5, 3.0, 5.5, 4.5, 5.0, 1.5, 7.5, 6.0, 10.0, 8.0, 7.0, 11.0...</td>\n",
       "      <td>0</td>\n",
       "      <td>0.0</td>\n",
       "      <td>float64</td>\n",
       "    </tr>\n",
       "    <tr>\n",
       "      <th>2</th>\n",
       "      <td>square_ft</td>\n",
       "      <td>10557</td>\n",
       "      <td>[3633.0, 1620.0, 2077.0, 1200.0, 171.0, 203.0, 1244.0, 1300.0, 1222.0, 4144.0, 1821.0,...</td>\n",
       "      <td>0</td>\n",
       "      <td>0.0</td>\n",
       "      <td>float64</td>\n",
       "    </tr>\n",
       "    <tr>\n",
       "      <th>3</th>\n",
       "      <td>property_value</td>\n",
       "      <td>588178</td>\n",
       "      <td>[296425.0, 847770.0, 646760.0, 5328.0, 6920.0, 14166.0, 169471.0, 233266.0, 290492.0, ...</td>\n",
       "      <td>0</td>\n",
       "      <td>0.0</td>\n",
       "      <td>float64</td>\n",
       "    </tr>\n",
       "    <tr>\n",
       "      <th>4</th>\n",
       "      <td>yr_built</td>\n",
       "      <td>153</td>\n",
       "      <td>[2005, 2011, 1926, 1972, 1973, 1960, 1950, 1951, 2016, 2013, 2014, 2015, 2012, 1944, 1...</td>\n",
       "      <td>0</td>\n",
       "      <td>0.0</td>\n",
       "      <td>int64</td>\n",
       "    </tr>\n",
       "    <tr>\n",
       "      <th>5</th>\n",
       "      <td>tax</td>\n",
       "      <td>915868</td>\n",
       "      <td>[6941.39, 10244.94, 7924.68, 91.6, 255.17, 163.79, 2532.88, 3110.99, 3870.25, 14820.1,...</td>\n",
       "      <td>0</td>\n",
       "      <td>0.0</td>\n",
       "      <td>float64</td>\n",
       "    </tr>\n",
       "    <tr>\n",
       "      <th>6</th>\n",
       "      <td>county</td>\n",
       "      <td>3</td>\n",
       "      <td>[LA, Orange, Ventura]</td>\n",
       "      <td>0</td>\n",
       "      <td>0.0</td>\n",
       "      <td>object</td>\n",
       "    </tr>\n",
       "  </tbody>\n",
       "</table>\n",
       "</div>"
      ],
      "text/plain": [
       "      Column Name  Number of Unique Values  \\\n",
       "0         bedroom                       19   \n",
       "1        bathroom                       38   \n",
       "2       square_ft                    10557   \n",
       "3  property_value                   588178   \n",
       "4        yr_built                      153   \n",
       "5             tax                   915868   \n",
       "6          county                        3   \n",
       "\n",
       "                                                                               Unique Values  \\\n",
       "0  [4.0, 3.0, 0.0, 5.0, 2.0, 1.0, 6.0, 7.0, 8.0, 9.0, 25.0, 10.0, 11.0, 14.0, 15.0, 13.0,...   \n",
       "1  [2.0, 4.0, 0.0, 1.0, 2.5, 3.5, 3.0, 5.5, 4.5, 5.0, 1.5, 7.5, 6.0, 10.0, 8.0, 7.0, 11.0...   \n",
       "2  [3633.0, 1620.0, 2077.0, 1200.0, 171.0, 203.0, 1244.0, 1300.0, 1222.0, 4144.0, 1821.0,...   \n",
       "3  [296425.0, 847770.0, 646760.0, 5328.0, 6920.0, 14166.0, 169471.0, 233266.0, 290492.0, ...   \n",
       "4  [2005, 2011, 1926, 1972, 1973, 1960, 1950, 1951, 2016, 2013, 2014, 2015, 2012, 1944, 1...   \n",
       "5  [6941.39, 10244.94, 7924.68, 91.6, 255.17, 163.79, 2532.88, 3110.99, 3870.25, 14820.1,...   \n",
       "6                                                                      [LA, Orange, Ventura]   \n",
       "\n",
       "   Number of Null Values  Proportion of Null Values    dtype  \n",
       "0                      0                        0.0  float64  \n",
       "1                      0                        0.0  float64  \n",
       "2                      0                        0.0  float64  \n",
       "3                      0                        0.0  float64  \n",
       "4                      0                        0.0    int64  \n",
       "5                      0                        0.0  float64  \n",
       "6                      0                        0.0   object  "
      ]
     },
     "execution_count": 6,
     "metadata": {},
     "output_type": "execute_result"
    }
   ],
   "source": [
    "function.check_columns(df)"
   ]
  },
  {
   "cell_type": "code",
   "execution_count": 7,
   "id": "b2effa29-5087-43fe-942e-56bf4ad41ef3",
   "metadata": {
    "tags": []
   },
   "outputs": [],
   "source": [
    "def one_hot_encoder(df):\n",
    "    '''\n",
    "    This function will encode object_type variables changed to number_type variables\n",
    "    ready for ML modeling\n",
    "\n",
    "    Example cat_cols: cat_cols = ['sex','smoker', 'day', 'time'] \n",
    "    Input: df, cat_cols\n",
    "    Output: df_encoded\n",
    "    '''\n",
    "    cat_cols = []\n",
    "    for col in df.columns:\n",
    "        if df[col].dtype == 'object':\n",
    "            cat_cols.append(col)\n",
    "\n",
    "    # create an instance of the OneHotEncoder\n",
    "    encoder = OneHotEncoder(sparse=False)\n",
    "\n",
    "    # fit the encoder to the categorical variables into one_hot_encoder features\n",
    "    encoder.fit(df[cat_cols])\n",
    "\n",
    "    # transform the categorical variables from the one_hot_encoder features  \n",
    "    # and rename variable\n",
    "    encoded = encoder.transform(df[cat_cols])\n",
    "\n",
    "    # create new df with one_hot_encoder from categorical features\n",
    "    one_hot_df = pd.DataFrame(encoded, columns=encoder.get_feature_names_out())\n",
    "    \n",
    "    # concatenate the original df with the one_hot_encoded df\n",
    "    df = pd.concat([df, one_hot_df], axis=1).drop(columns=cat_cols)\n",
    "\n",
    "    return df"
   ]
  },
  {
   "cell_type": "code",
   "execution_count": 8,
   "id": "319faec7-40a2-48ab-9d1d-6864c2852cc5",
   "metadata": {
    "tags": []
   },
   "outputs": [
    {
     "data": {
      "text/html": [
       "<div>\n",
       "<style scoped>\n",
       "    .dataframe tbody tr th:only-of-type {\n",
       "        vertical-align: middle;\n",
       "    }\n",
       "\n",
       "    .dataframe tbody tr th {\n",
       "        vertical-align: top;\n",
       "    }\n",
       "\n",
       "    .dataframe thead th {\n",
       "        text-align: right;\n",
       "    }\n",
       "</style>\n",
       "<table border=\"1\" class=\"dataframe\">\n",
       "  <thead>\n",
       "    <tr style=\"text-align: right;\">\n",
       "      <th></th>\n",
       "      <th>Column Name</th>\n",
       "      <th>Number of Unique Values</th>\n",
       "      <th>Unique Values</th>\n",
       "      <th>Number of Null Values</th>\n",
       "      <th>Proportion of Null Values</th>\n",
       "      <th>dtype</th>\n",
       "    </tr>\n",
       "  </thead>\n",
       "  <tbody>\n",
       "    <tr>\n",
       "      <th>0</th>\n",
       "      <td>bedroom</td>\n",
       "      <td>19</td>\n",
       "      <td>[4.0, 3.0, 0.0, 5.0, 2.0, 1.0, 6.0, 7.0, 8.0, 9.0, 25.0, 10.0, 11.0, 14.0, 15.0, 13.0,...</td>\n",
       "      <td>12534</td>\n",
       "      <td>0.005822</td>\n",
       "      <td>float64</td>\n",
       "    </tr>\n",
       "    <tr>\n",
       "      <th>1</th>\n",
       "      <td>bathroom</td>\n",
       "      <td>38</td>\n",
       "      <td>[2.0, 4.0, 0.0, 1.0, 2.5, 3.5, 3.0, 5.5, 4.5, 5.0, 1.5, 7.5, 6.0, 10.0, 8.0, 7.0, 11.0...</td>\n",
       "      <td>12534</td>\n",
       "      <td>0.005822</td>\n",
       "      <td>float64</td>\n",
       "    </tr>\n",
       "    <tr>\n",
       "      <th>2</th>\n",
       "      <td>square_ft</td>\n",
       "      <td>10557</td>\n",
       "      <td>[3633.0, 1620.0, 2077.0, 1200.0, 171.0, 203.0, 1244.0, 1300.0, 1222.0, 4144.0, 1821.0,...</td>\n",
       "      <td>12534</td>\n",
       "      <td>0.005822</td>\n",
       "      <td>float64</td>\n",
       "    </tr>\n",
       "    <tr>\n",
       "      <th>3</th>\n",
       "      <td>property_value</td>\n",
       "      <td>588178</td>\n",
       "      <td>[296425.0, 847770.0, 646760.0, 5328.0, 6920.0, 14166.0, 169471.0, 233266.0, 290492.0, ...</td>\n",
       "      <td>12534</td>\n",
       "      <td>0.005822</td>\n",
       "      <td>float64</td>\n",
       "    </tr>\n",
       "    <tr>\n",
       "      <th>4</th>\n",
       "      <td>yr_built</td>\n",
       "      <td>153</td>\n",
       "      <td>[2005.0, 2011.0, 1926.0, 1972.0, 1973.0, 1960.0, 1950.0, 1951.0, 2016.0, 2013.0, 2014....</td>\n",
       "      <td>12534</td>\n",
       "      <td>0.005822</td>\n",
       "      <td>float64</td>\n",
       "    </tr>\n",
       "    <tr>\n",
       "      <th>5</th>\n",
       "      <td>tax</td>\n",
       "      <td>915868</td>\n",
       "      <td>[6941.39, 10244.94, 7924.68, 91.6, 255.17, 163.79, 2532.88, 3110.99, 3870.25, 14820.1,...</td>\n",
       "      <td>12534</td>\n",
       "      <td>0.005822</td>\n",
       "      <td>float64</td>\n",
       "    </tr>\n",
       "    <tr>\n",
       "      <th>6</th>\n",
       "      <td>county_LA</td>\n",
       "      <td>2</td>\n",
       "      <td>[1.0, 0.0, nan]</td>\n",
       "      <td>12534</td>\n",
       "      <td>0.005822</td>\n",
       "      <td>float64</td>\n",
       "    </tr>\n",
       "    <tr>\n",
       "      <th>7</th>\n",
       "      <td>county_Orange</td>\n",
       "      <td>2</td>\n",
       "      <td>[0.0, 1.0, nan]</td>\n",
       "      <td>12534</td>\n",
       "      <td>0.005822</td>\n",
       "      <td>float64</td>\n",
       "    </tr>\n",
       "    <tr>\n",
       "      <th>8</th>\n",
       "      <td>county_Ventura</td>\n",
       "      <td>2</td>\n",
       "      <td>[0.0, 1.0, nan]</td>\n",
       "      <td>12534</td>\n",
       "      <td>0.005822</td>\n",
       "      <td>float64</td>\n",
       "    </tr>\n",
       "  </tbody>\n",
       "</table>\n",
       "</div>"
      ],
      "text/plain": [
       "      Column Name  Number of Unique Values  \\\n",
       "0         bedroom                       19   \n",
       "1        bathroom                       38   \n",
       "2       square_ft                    10557   \n",
       "3  property_value                   588178   \n",
       "4        yr_built                      153   \n",
       "5             tax                   915868   \n",
       "6       county_LA                        2   \n",
       "7   county_Orange                        2   \n",
       "8  county_Ventura                        2   \n",
       "\n",
       "                                                                               Unique Values  \\\n",
       "0  [4.0, 3.0, 0.0, 5.0, 2.0, 1.0, 6.0, 7.0, 8.0, 9.0, 25.0, 10.0, 11.0, 14.0, 15.0, 13.0,...   \n",
       "1  [2.0, 4.0, 0.0, 1.0, 2.5, 3.5, 3.0, 5.5, 4.5, 5.0, 1.5, 7.5, 6.0, 10.0, 8.0, 7.0, 11.0...   \n",
       "2  [3633.0, 1620.0, 2077.0, 1200.0, 171.0, 203.0, 1244.0, 1300.0, 1222.0, 4144.0, 1821.0,...   \n",
       "3  [296425.0, 847770.0, 646760.0, 5328.0, 6920.0, 14166.0, 169471.0, 233266.0, 290492.0, ...   \n",
       "4  [2005.0, 2011.0, 1926.0, 1972.0, 1973.0, 1960.0, 1950.0, 1951.0, 2016.0, 2013.0, 2014....   \n",
       "5  [6941.39, 10244.94, 7924.68, 91.6, 255.17, 163.79, 2532.88, 3110.99, 3870.25, 14820.1,...   \n",
       "6                                                                            [1.0, 0.0, nan]   \n",
       "7                                                                            [0.0, 1.0, nan]   \n",
       "8                                                                            [0.0, 1.0, nan]   \n",
       "\n",
       "   Number of Null Values  Proportion of Null Values    dtype  \n",
       "0                  12534                   0.005822  float64  \n",
       "1                  12534                   0.005822  float64  \n",
       "2                  12534                   0.005822  float64  \n",
       "3                  12534                   0.005822  float64  \n",
       "4                  12534                   0.005822  float64  \n",
       "5                  12534                   0.005822  float64  \n",
       "6                  12534                   0.005822  float64  \n",
       "7                  12534                   0.005822  float64  \n",
       "8                  12534                   0.005822  float64  "
      ]
     },
     "execution_count": 8,
     "metadata": {},
     "output_type": "execute_result"
    }
   ],
   "source": [
    "one_df = one_hot_encoder(df)\n",
    "function.check_columns(one_df)"
   ]
  },
  {
   "cell_type": "code",
   "execution_count": 9,
   "id": "5766e05f-2353-4d54-8a02-496511fcfa65",
   "metadata": {
    "tags": []
   },
   "outputs": [],
   "source": [
    "train, validate, test = wrangle.wrangle_zillow(df)"
   ]
  },
  {
   "cell_type": "code",
   "execution_count": 10,
   "id": "4441ed49-a52d-444a-83f7-905649b8c986",
   "metadata": {
    "tags": []
   },
   "outputs": [
    {
     "data": {
      "text/plain": [
       "((1284141, 7), (428047, 7), (428047, 7))"
      ]
     },
     "execution_count": 10,
     "metadata": {},
     "output_type": "execute_result"
    }
   ],
   "source": [
    "train.shape, validate.shape, test.shape"
   ]
  },
  {
   "cell_type": "code",
   "execution_count": 11,
   "id": "0accc423-d583-4c85-9863-3510be037be8",
   "metadata": {
    "tags": []
   },
   "outputs": [],
   "source": [
    "train_encoded, validate_encoded, test_encoded = function.preprocess(train, validate, test)"
   ]
  },
  {
   "cell_type": "code",
   "execution_count": 12,
   "id": "21065e29-0901-4550-ba0b-2002b90335a5",
   "metadata": {
    "tags": []
   },
   "outputs": [
    {
     "data": {
      "text/html": [
       "<div>\n",
       "<style scoped>\n",
       "    .dataframe tbody tr th:only-of-type {\n",
       "        vertical-align: middle;\n",
       "    }\n",
       "\n",
       "    .dataframe tbody tr th {\n",
       "        vertical-align: top;\n",
       "    }\n",
       "\n",
       "    .dataframe thead th {\n",
       "        text-align: right;\n",
       "    }\n",
       "</style>\n",
       "<table border=\"1\" class=\"dataframe\">\n",
       "  <thead>\n",
       "    <tr style=\"text-align: right;\">\n",
       "      <th></th>\n",
       "      <th>bedroom</th>\n",
       "      <th>bathroom</th>\n",
       "      <th>square_ft</th>\n",
       "      <th>property_value</th>\n",
       "      <th>yr_built</th>\n",
       "      <th>tax</th>\n",
       "      <th>county_Orange</th>\n",
       "      <th>county_Ventura</th>\n",
       "    </tr>\n",
       "  </thead>\n",
       "  <tbody>\n",
       "    <tr>\n",
       "      <th>462820</th>\n",
       "      <td>5.0</td>\n",
       "      <td>4.0</td>\n",
       "      <td>3011.0</td>\n",
       "      <td>710674.0</td>\n",
       "      <td>2005</td>\n",
       "      <td>7561.14</td>\n",
       "      <td>0</td>\n",
       "      <td>1</td>\n",
       "    </tr>\n",
       "    <tr>\n",
       "      <th>3880</th>\n",
       "      <td>3.0</td>\n",
       "      <td>2.0</td>\n",
       "      <td>1682.0</td>\n",
       "      <td>603333.0</td>\n",
       "      <td>1961</td>\n",
       "      <td>7086.19</td>\n",
       "      <td>0</td>\n",
       "      <td>0</td>\n",
       "    </tr>\n",
       "    <tr>\n",
       "      <th>992263</th>\n",
       "      <td>4.0</td>\n",
       "      <td>2.0</td>\n",
       "      <td>1433.0</td>\n",
       "      <td>82804.0</td>\n",
       "      <td>1954</td>\n",
       "      <td>1134.83</td>\n",
       "      <td>0</td>\n",
       "      <td>0</td>\n",
       "    </tr>\n",
       "    <tr>\n",
       "      <th>311722</th>\n",
       "      <td>3.0</td>\n",
       "      <td>2.5</td>\n",
       "      <td>2001.0</td>\n",
       "      <td>355444.0</td>\n",
       "      <td>1999</td>\n",
       "      <td>4174.92</td>\n",
       "      <td>0</td>\n",
       "      <td>1</td>\n",
       "    </tr>\n",
       "    <tr>\n",
       "      <th>787985</th>\n",
       "      <td>4.0</td>\n",
       "      <td>2.0</td>\n",
       "      <td>2277.0</td>\n",
       "      <td>571000.0</td>\n",
       "      <td>1962</td>\n",
       "      <td>7113.02</td>\n",
       "      <td>0</td>\n",
       "      <td>0</td>\n",
       "    </tr>\n",
       "  </tbody>\n",
       "</table>\n",
       "</div>"
      ],
      "text/plain": [
       "        bedroom  bathroom  square_ft  property_value  yr_built      tax  \\\n",
       "462820      5.0       4.0     3011.0        710674.0      2005  7561.14   \n",
       "3880        3.0       2.0     1682.0        603333.0      1961  7086.19   \n",
       "992263      4.0       2.0     1433.0         82804.0      1954  1134.83   \n",
       "311722      3.0       2.5     2001.0        355444.0      1999  4174.92   \n",
       "787985      4.0       2.0     2277.0        571000.0      1962  7113.02   \n",
       "\n",
       "        county_Orange  county_Ventura  \n",
       "462820              0               1  \n",
       "3880                0               0  \n",
       "992263              0               0  \n",
       "311722              0               1  \n",
       "787985              0               0  "
      ]
     },
     "execution_count": 12,
     "metadata": {},
     "output_type": "execute_result"
    }
   ],
   "source": [
    "train_encoded.head()"
   ]
  },
  {
   "cell_type": "code",
   "execution_count": 13,
   "id": "0105fc2e-96b1-4100-a1e8-6f97c06ac122",
   "metadata": {
    "tags": []
   },
   "outputs": [
    {
     "data": {
      "text/html": [
       "<div>\n",
       "<style scoped>\n",
       "    .dataframe tbody tr th:only-of-type {\n",
       "        vertical-align: middle;\n",
       "    }\n",
       "\n",
       "    .dataframe tbody tr th {\n",
       "        vertical-align: top;\n",
       "    }\n",
       "\n",
       "    .dataframe thead th {\n",
       "        text-align: right;\n",
       "    }\n",
       "</style>\n",
       "<table border=\"1\" class=\"dataframe\">\n",
       "  <thead>\n",
       "    <tr style=\"text-align: right;\">\n",
       "      <th></th>\n",
       "      <th>Column Name</th>\n",
       "      <th>Number of Unique Values</th>\n",
       "      <th>Unique Values</th>\n",
       "      <th>Number of Null Values</th>\n",
       "      <th>Proportion of Null Values</th>\n",
       "      <th>dtype</th>\n",
       "    </tr>\n",
       "  </thead>\n",
       "  <tbody>\n",
       "    <tr>\n",
       "      <th>0</th>\n",
       "      <td>bedroom</td>\n",
       "      <td>18</td>\n",
       "      <td>[4.0, 2.0, 3.0, 1.0, 5.0, 6.0, 0.0, 10.0, 9.0, 7.0, 8.0, 11.0, 13.0, 25.0, 15.0, 12.0,...</td>\n",
       "      <td>0</td>\n",
       "      <td>0.0</td>\n",
       "      <td>float64</td>\n",
       "    </tr>\n",
       "    <tr>\n",
       "      <th>1</th>\n",
       "      <td>bathroom</td>\n",
       "      <td>34</td>\n",
       "      <td>[2.0, 1.0, 3.0, 5.0, 4.0, 2.5, 1.5, 5.5, 3.5, 4.5, 7.0, 0.0, 6.5, 8.0, 6.0, 8.5, 7.5, ...</td>\n",
       "      <td>0</td>\n",
       "      <td>0.0</td>\n",
       "      <td>float64</td>\n",
       "    </tr>\n",
       "    <tr>\n",
       "      <th>2</th>\n",
       "      <td>square_ft</td>\n",
       "      <td>7407</td>\n",
       "      <td>[1892.0, 1411.0, 1196.0, 2368.0, 3482.0, 1138.0, 1981.0, 1040.0, 1326.0, 1489.0, 603.0...</td>\n",
       "      <td>0</td>\n",
       "      <td>0.0</td>\n",
       "      <td>float64</td>\n",
       "    </tr>\n",
       "    <tr>\n",
       "      <th>3</th>\n",
       "      <td>property_value</td>\n",
       "      <td>219492</td>\n",
       "      <td>[114668.0, 75656.0, 406000.0, 1441578.0, 1277065.0, 68631.0, 952388.0, 112009.0, 34941...</td>\n",
       "      <td>0</td>\n",
       "      <td>0.0</td>\n",
       "      <td>float64</td>\n",
       "    </tr>\n",
       "    <tr>\n",
       "      <th>4</th>\n",
       "      <td>yr_built</td>\n",
       "      <td>141</td>\n",
       "      <td>[1959, 1950, 1953, 1936, 1965, 1955, 1963, 1956, 1954, 1974, 1946, 1995, 1957, 1938, 1...</td>\n",
       "      <td>0</td>\n",
       "      <td>0.0</td>\n",
       "      <td>int64</td>\n",
       "    </tr>\n",
       "    <tr>\n",
       "      <th>5</th>\n",
       "      <td>tax</td>\n",
       "      <td>336578</td>\n",
       "      <td>[1565.3, 876.98, 10431.05, 16525.72, 14567.56, 1177.91, 10557.66, 1962.66, 4316.44, 53...</td>\n",
       "      <td>0</td>\n",
       "      <td>0.0</td>\n",
       "      <td>float64</td>\n",
       "    </tr>\n",
       "    <tr>\n",
       "      <th>6</th>\n",
       "      <td>county_Orange</td>\n",
       "      <td>2</td>\n",
       "      <td>[1, 0]</td>\n",
       "      <td>0</td>\n",
       "      <td>0.0</td>\n",
       "      <td>int64</td>\n",
       "    </tr>\n",
       "    <tr>\n",
       "      <th>7</th>\n",
       "      <td>county_Ventura</td>\n",
       "      <td>2</td>\n",
       "      <td>[0, 1]</td>\n",
       "      <td>0</td>\n",
       "      <td>0.0</td>\n",
       "      <td>int64</td>\n",
       "    </tr>\n",
       "  </tbody>\n",
       "</table>\n",
       "</div>"
      ],
      "text/plain": [
       "      Column Name  Number of Unique Values  \\\n",
       "0         bedroom                       18   \n",
       "1        bathroom                       34   \n",
       "2       square_ft                     7407   \n",
       "3  property_value                   219492   \n",
       "4        yr_built                      141   \n",
       "5             tax                   336578   \n",
       "6   county_Orange                        2   \n",
       "7  county_Ventura                        2   \n",
       "\n",
       "                                                                               Unique Values  \\\n",
       "0  [4.0, 2.0, 3.0, 1.0, 5.0, 6.0, 0.0, 10.0, 9.0, 7.0, 8.0, 11.0, 13.0, 25.0, 15.0, 12.0,...   \n",
       "1  [2.0, 1.0, 3.0, 5.0, 4.0, 2.5, 1.5, 5.5, 3.5, 4.5, 7.0, 0.0, 6.5, 8.0, 6.0, 8.5, 7.5, ...   \n",
       "2  [1892.0, 1411.0, 1196.0, 2368.0, 3482.0, 1138.0, 1981.0, 1040.0, 1326.0, 1489.0, 603.0...   \n",
       "3  [114668.0, 75656.0, 406000.0, 1441578.0, 1277065.0, 68631.0, 952388.0, 112009.0, 34941...   \n",
       "4  [1959, 1950, 1953, 1936, 1965, 1955, 1963, 1956, 1954, 1974, 1946, 1995, 1957, 1938, 1...   \n",
       "5  [1565.3, 876.98, 10431.05, 16525.72, 14567.56, 1177.91, 10557.66, 1962.66, 4316.44, 53...   \n",
       "6                                                                                     [1, 0]   \n",
       "7                                                                                     [0, 1]   \n",
       "\n",
       "   Number of Null Values  Proportion of Null Values    dtype  \n",
       "0                      0                        0.0  float64  \n",
       "1                      0                        0.0  float64  \n",
       "2                      0                        0.0  float64  \n",
       "3                      0                        0.0  float64  \n",
       "4                      0                        0.0    int64  \n",
       "5                      0                        0.0  float64  \n",
       "6                      0                        0.0    int64  \n",
       "7                      0                        0.0    int64  "
      ]
     },
     "execution_count": 13,
     "metadata": {},
     "output_type": "execute_result"
    }
   ],
   "source": [
    "function.check_columns(test_encoded)"
   ]
  },
  {
   "cell_type": "code",
   "execution_count": 14,
   "id": "1109a536-ba7a-420f-afe0-57c8d6f149e9",
   "metadata": {
    "tags": []
   },
   "outputs": [
    {
     "data": {
      "image/png": "[encoded data removed]",
      "text/plain": [
       "<Figure size 1600x900 with 8 Axes>"
      ]
     },
     "metadata": {},
     "output_type": "display_data"
    }
   ],
   "source": [
    "columns = ['bedroom', 'bathroom', 'square_ft', 'yr_built']\n",
    "regression_function.visualize_scaler(scaler=MinMaxScaler(), df=train_encoded, \n",
    "                                     columns_to_scale=columns, bins=50)"
   ]
  },
  {
   "cell_type": "code",
   "execution_count": 15,
   "id": "d015e441-7ebc-4779-9cdb-79923ac920a1",
   "metadata": {
    "tags": []
   },
   "outputs": [
    {
     "data": {
      "image/png": "[encoded data removed]",
      "text/plain": [
       "<Figure size 1600x900 with 8 Axes>"
      ]
     },
     "metadata": {},
     "output_type": "display_data"
    }
   ],
   "source": [
    "regression_function.visualize_scaler(scaler=StandardScaler(), df=train_encoded, \n",
    "                                     columns_to_scale=columns, bins=50)"
   ]
  },
  {
   "cell_type": "code",
   "execution_count": 16,
   "id": "b01bbaec-cd95-4e5f-bd5c-5df334b3a52c",
   "metadata": {
    "tags": []
   },
   "outputs": [
    {
     "data": {
      "image/png": "[encoded data removed]",
      "text/plain": [
       "<Figure size 1600x900 with 8 Axes>"
      ]
     },
     "metadata": {},
     "output_type": "display_data"
    }
   ],
   "source": [
    "regression_function.visualize_scaler(scaler=RobustScaler(), df=train_encoded, \n",
    "                                     columns_to_scale=columns, bins=50)"
   ]
  },
  {
   "cell_type": "code",
   "execution_count": 17,
   "id": "f475b556-109b-4fed-8fa3-7a99941795db",
   "metadata": {
    "tags": []
   },
   "outputs": [],
   "source": [
    "train_encoded_robust, validate_encoded_robust, test_encoded_robust = regression_function.scaled_version(\n",
    "                                                    train_encoded, validate_encoded, test_encoded, scaler=RobustScaler(), \n",
    "                                                    columns_to_scale=columns)"
   ]
  },
  {
   "cell_type": "code",
   "execution_count": 18,
   "id": "a22d56f1-665b-4abf-aa62-b932bad51721",
   "metadata": {
    "tags": []
   },
   "outputs": [
    {
     "data": {
      "text/html": [
       "<div>\n",
       "<style scoped>\n",
       "    .dataframe tbody tr th:only-of-type {\n",
       "        vertical-align: middle;\n",
       "    }\n",
       "\n",
       "    .dataframe tbody tr th {\n",
       "        vertical-align: top;\n",
       "    }\n",
       "\n",
       "    .dataframe thead th {\n",
       "        text-align: right;\n",
       "    }\n",
       "</style>\n",
       "<table border=\"1\" class=\"dataframe\">\n",
       "  <thead>\n",
       "    <tr style=\"text-align: right;\">\n",
       "      <th></th>\n",
       "      <th>bedroom</th>\n",
       "      <th>bathroom</th>\n",
       "      <th>square_ft</th>\n",
       "      <th>property_value</th>\n",
       "      <th>yr_built</th>\n",
       "      <th>tax</th>\n",
       "      <th>county_Orange</th>\n",
       "      <th>county_Ventura</th>\n",
       "    </tr>\n",
       "  </thead>\n",
       "  <tbody>\n",
       "    <tr>\n",
       "      <th>1656157</th>\n",
       "      <td>1.0</td>\n",
       "      <td>0.0</td>\n",
       "      <td>0.283158</td>\n",
       "      <td>114668.0</td>\n",
       "      <td>0.037037</td>\n",
       "      <td>1565.30</td>\n",
       "      <td>1</td>\n",
       "      <td>0</td>\n",
       "    </tr>\n",
       "    <tr>\n",
       "      <th>1948549</th>\n",
       "      <td>-1.0</td>\n",
       "      <td>-1.0</td>\n",
       "      <td>-0.223158</td>\n",
       "      <td>75656.0</td>\n",
       "      <td>-0.296296</td>\n",
       "      <td>876.98</td>\n",
       "      <td>0</td>\n",
       "      <td>1</td>\n",
       "    </tr>\n",
       "    <tr>\n",
       "      <th>1691317</th>\n",
       "      <td>0.0</td>\n",
       "      <td>0.0</td>\n",
       "      <td>-0.449474</td>\n",
       "      <td>406000.0</td>\n",
       "      <td>-0.185185</td>\n",
       "      <td>10431.05</td>\n",
       "      <td>0</td>\n",
       "      <td>0</td>\n",
       "    </tr>\n",
       "    <tr>\n",
       "      <th>1618983</th>\n",
       "      <td>1.0</td>\n",
       "      <td>1.0</td>\n",
       "      <td>0.784211</td>\n",
       "      <td>1441578.0</td>\n",
       "      <td>-0.814815</td>\n",
       "      <td>16525.72</td>\n",
       "      <td>0</td>\n",
       "      <td>0</td>\n",
       "    </tr>\n",
       "    <tr>\n",
       "      <th>1199756</th>\n",
       "      <td>1.0</td>\n",
       "      <td>3.0</td>\n",
       "      <td>1.956842</td>\n",
       "      <td>1277065.0</td>\n",
       "      <td>0.259259</td>\n",
       "      <td>14567.56</td>\n",
       "      <td>0</td>\n",
       "      <td>0</td>\n",
       "    </tr>\n",
       "  </tbody>\n",
       "</table>\n",
       "</div>"
      ],
      "text/plain": [
       "         bedroom  bathroom  square_ft  property_value  yr_built       tax  \\\n",
       "1656157      1.0       0.0   0.283158        114668.0  0.037037   1565.30   \n",
       "1948549     -1.0      -1.0  -0.223158         75656.0 -0.296296    876.98   \n",
       "1691317      0.0       0.0  -0.449474        406000.0 -0.185185  10431.05   \n",
       "1618983      1.0       1.0   0.784211       1441578.0 -0.814815  16525.72   \n",
       "1199756      1.0       3.0   1.956842       1277065.0  0.259259  14567.56   \n",
       "\n",
       "         county_Orange  county_Ventura  \n",
       "1656157              1               0  \n",
       "1948549              0               1  \n",
       "1691317              0               0  \n",
       "1618983              0               0  \n",
       "1199756              0               0  "
      ]
     },
     "execution_count": 18,
     "metadata": {},
     "output_type": "execute_result"
    }
   ],
   "source": [
    "test_encoded_robust.head()"
   ]
  },
  {
   "cell_type": "code",
   "execution_count": 19,
   "id": "d2a43f17-b9ad-4cc7-8f2a-ca878bfc142f",
   "metadata": {
    "tags": []
   },
   "outputs": [],
   "source": [
    "# establishing target variable\n",
    "target = 'property_value'"
   ]
  },
  {
   "cell_type": "code",
   "execution_count": 20,
   "id": "bea0532c-fd1d-4658-a7d7-d75ee0587d61",
   "metadata": {
    "tags": []
   },
   "outputs": [],
   "source": [
    "# using a function to apply robust scaler and split target variable \n",
    "X_train, y_train, X_validate, y_validate, X_test, y_test = function.split_target(train_encoded_robust, \n",
    "                                                         validate_encoded_robust, test_encoded_robust, target)"
   ]
  },
  {
   "cell_type": "code",
   "execution_count": 21,
   "id": "2cfaf911-36b9-4fe7-a22e-711d7fc819ff",
   "metadata": {
    "tags": []
   },
   "outputs": [
    {
     "data": {
      "text/html": [
       "<div>\n",
       "<style scoped>\n",
       "    .dataframe tbody tr th:only-of-type {\n",
       "        vertical-align: middle;\n",
       "    }\n",
       "\n",
       "    .dataframe tbody tr th {\n",
       "        vertical-align: top;\n",
       "    }\n",
       "\n",
       "    .dataframe thead th {\n",
       "        text-align: right;\n",
       "    }\n",
       "</style>\n",
       "<table border=\"1\" class=\"dataframe\">\n",
       "  <thead>\n",
       "    <tr style=\"text-align: right;\">\n",
       "      <th></th>\n",
       "      <th>bedroom</th>\n",
       "      <th>bathroom</th>\n",
       "      <th>square_ft</th>\n",
       "      <th>yr_built</th>\n",
       "      <th>tax</th>\n",
       "      <th>county_Orange</th>\n",
       "      <th>county_Ventura</th>\n",
       "    </tr>\n",
       "  </thead>\n",
       "  <tbody>\n",
       "    <tr>\n",
       "      <th>462820</th>\n",
       "      <td>2.0</td>\n",
       "      <td>2.0</td>\n",
       "      <td>1.461053</td>\n",
       "      <td>1.740741</td>\n",
       "      <td>7561.14</td>\n",
       "      <td>0</td>\n",
       "      <td>1</td>\n",
       "    </tr>\n",
       "    <tr>\n",
       "      <th>3880</th>\n",
       "      <td>0.0</td>\n",
       "      <td>0.0</td>\n",
       "      <td>0.062105</td>\n",
       "      <td>0.111111</td>\n",
       "      <td>7086.19</td>\n",
       "      <td>0</td>\n",
       "      <td>0</td>\n",
       "    </tr>\n",
       "    <tr>\n",
       "      <th>992263</th>\n",
       "      <td>1.0</td>\n",
       "      <td>0.0</td>\n",
       "      <td>-0.200000</td>\n",
       "      <td>-0.148148</td>\n",
       "      <td>1134.83</td>\n",
       "      <td>0</td>\n",
       "      <td>0</td>\n",
       "    </tr>\n",
       "  </tbody>\n",
       "</table>\n",
       "</div>"
      ],
      "text/plain": [
       "        bedroom  bathroom  square_ft  yr_built      tax  county_Orange  \\\n",
       "462820      2.0       2.0   1.461053  1.740741  7561.14              0   \n",
       "3880        0.0       0.0   0.062105  0.111111  7086.19              0   \n",
       "992263      1.0       0.0  -0.200000 -0.148148  1134.83              0   \n",
       "\n",
       "        county_Ventura  \n",
       "462820               1  \n",
       "3880                 0  \n",
       "992263               0  "
      ]
     },
     "execution_count": 21,
     "metadata": {},
     "output_type": "execute_result"
    }
   ],
   "source": [
    "X_train.head(3)"
   ]
  },
  {
   "cell_type": "code",
   "execution_count": 22,
   "id": "c2ae1a9d-fc7e-481d-8515-12b103fa5d45",
   "metadata": {
    "tags": []
   },
   "outputs": [
    {
     "data": {
      "text/html": [
       "<div>\n",
       "<style scoped>\n",
       "    .dataframe tbody tr th:only-of-type {\n",
       "        vertical-align: middle;\n",
       "    }\n",
       "\n",
       "    .dataframe tbody tr th {\n",
       "        vertical-align: top;\n",
       "    }\n",
       "\n",
       "    .dataframe thead th {\n",
       "        text-align: right;\n",
       "    }\n",
       "</style>\n",
       "<table border=\"1\" class=\"dataframe\">\n",
       "  <thead>\n",
       "    <tr style=\"text-align: right;\">\n",
       "      <th></th>\n",
       "      <th>property_value</th>\n",
       "    </tr>\n",
       "  </thead>\n",
       "  <tbody>\n",
       "    <tr>\n",
       "      <th>462820</th>\n",
       "      <td>710674.0</td>\n",
       "    </tr>\n",
       "    <tr>\n",
       "      <th>3880</th>\n",
       "      <td>603333.0</td>\n",
       "    </tr>\n",
       "    <tr>\n",
       "      <th>992263</th>\n",
       "      <td>82804.0</td>\n",
       "    </tr>\n",
       "  </tbody>\n",
       "</table>\n",
       "</div>"
      ],
      "text/plain": [
       "        property_value\n",
       "462820        710674.0\n",
       "3880          603333.0\n",
       "992263         82804.0"
      ]
     },
     "execution_count": 22,
     "metadata": {},
     "output_type": "execute_result"
    }
   ],
   "source": [
    "y_train.head(3)"
   ]
  },
  {
   "cell_type": "code",
   "execution_count": 23,
   "id": "aee0498d-501c-4e8e-a77a-6cd4e2d79468",
   "metadata": {
    "tags": []
   },
   "outputs": [
    {
     "data": {
      "text/html": [
       "<div>\n",
       "<style scoped>\n",
       "    .dataframe tbody tr th:only-of-type {\n",
       "        vertical-align: middle;\n",
       "    }\n",
       "\n",
       "    .dataframe tbody tr th {\n",
       "        vertical-align: top;\n",
       "    }\n",
       "\n",
       "    .dataframe thead th {\n",
       "        text-align: right;\n",
       "    }\n",
       "</style>\n",
       "<table border=\"1\" class=\"dataframe\">\n",
       "  <thead>\n",
       "    <tr style=\"text-align: right;\">\n",
       "      <th></th>\n",
       "      <th>Column Name</th>\n",
       "      <th>Number of Unique Values</th>\n",
       "      <th>Unique Values</th>\n",
       "      <th>Number of Null Values</th>\n",
       "      <th>Proportion of Null Values</th>\n",
       "      <th>dtype</th>\n",
       "    </tr>\n",
       "  </thead>\n",
       "  <tbody>\n",
       "    <tr>\n",
       "      <th>0</th>\n",
       "      <td>bedroom</td>\n",
       "      <td>17</td>\n",
       "      <td>[2.0, 1.0, 0.0, -2.0, -1.0, 3.0, -3.0, 6.0, 4.0, 5.0, 7.0, 8.0, 15.0, 12.0, 10.0, 13.0...</td>\n",
       "      <td>0</td>\n",
       "      <td>0.0</td>\n",
       "      <td>float64</td>\n",
       "    </tr>\n",
       "    <tr>\n",
       "      <th>1</th>\n",
       "      <td>bathroom</td>\n",
       "      <td>31</td>\n",
       "      <td>[2.0, 1.0, 0.0, -0.5, -1.0, 0.5, -2.0, 1.5, 2.5, 3.5, 3.0, 4.0, 5.0, 6.0, 5.5, 4.5, 7....</td>\n",
       "      <td>0</td>\n",
       "      <td>0.0</td>\n",
       "      <td>float64</td>\n",
       "    </tr>\n",
       "    <tr>\n",
       "      <th>2</th>\n",
       "      <td>square_ft</td>\n",
       "      <td>7496</td>\n",
       "      <td>[2.3926315789473684, 0.3568421052631579, 0.3968421052631579, -0.08105263157894736, -0....</td>\n",
       "      <td>0</td>\n",
       "      <td>0.0</td>\n",
       "      <td>float64</td>\n",
       "    </tr>\n",
       "    <tr>\n",
       "      <th>3</th>\n",
       "      <td>yr_built</td>\n",
       "      <td>139</td>\n",
       "      <td>[-1.2592592592592593, 0.037037037037037035, 0.3333333333333333, 1.1481481481481481, -0...</td>\n",
       "      <td>0</td>\n",
       "      <td>0.0</td>\n",
       "      <td>float64</td>\n",
       "    </tr>\n",
       "    <tr>\n",
       "      <th>4</th>\n",
       "      <td>tax</td>\n",
       "      <td>336695</td>\n",
       "      <td>[33112.84, 4774.05, 8734.68, 2798.54, 932.4, 2740.59, 2998.72, 6959.52, 6610.02, 6584....</td>\n",
       "      <td>0</td>\n",
       "      <td>0.0</td>\n",
       "      <td>float64</td>\n",
       "    </tr>\n",
       "    <tr>\n",
       "      <th>5</th>\n",
       "      <td>county_Orange</td>\n",
       "      <td>2</td>\n",
       "      <td>[0, 1]</td>\n",
       "      <td>0</td>\n",
       "      <td>0.0</td>\n",
       "      <td>int64</td>\n",
       "    </tr>\n",
       "    <tr>\n",
       "      <th>6</th>\n",
       "      <td>county_Ventura</td>\n",
       "      <td>2</td>\n",
       "      <td>[0, 1]</td>\n",
       "      <td>0</td>\n",
       "      <td>0.0</td>\n",
       "      <td>int64</td>\n",
       "    </tr>\n",
       "  </tbody>\n",
       "</table>\n",
       "</div>"
      ],
      "text/plain": [
       "      Column Name  Number of Unique Values  \\\n",
       "0         bedroom                       17   \n",
       "1        bathroom                       31   \n",
       "2       square_ft                     7496   \n",
       "3        yr_built                      139   \n",
       "4             tax                   336695   \n",
       "5   county_Orange                        2   \n",
       "6  county_Ventura                        2   \n",
       "\n",
       "                                                                               Unique Values  \\\n",
       "0  [2.0, 1.0, 0.0, -2.0, -1.0, 3.0, -3.0, 6.0, 4.0, 5.0, 7.0, 8.0, 15.0, 12.0, 10.0, 13.0...   \n",
       "1  [2.0, 1.0, 0.0, -0.5, -1.0, 0.5, -2.0, 1.5, 2.5, 3.5, 3.0, 4.0, 5.0, 6.0, 5.5, 4.5, 7....   \n",
       "2  [2.3926315789473684, 0.3568421052631579, 0.3968421052631579, -0.08105263157894736, -0....   \n",
       "3  [-1.2592592592592593, 0.037037037037037035, 0.3333333333333333, 1.1481481481481481, -0...   \n",
       "4  [33112.84, 4774.05, 8734.68, 2798.54, 932.4, 2740.59, 2998.72, 6959.52, 6610.02, 6584....   \n",
       "5                                                                                     [0, 1]   \n",
       "6                                                                                     [0, 1]   \n",
       "\n",
       "   Number of Null Values  Proportion of Null Values    dtype  \n",
       "0                      0                        0.0  float64  \n",
       "1                      0                        0.0  float64  \n",
       "2                      0                        0.0  float64  \n",
       "3                      0                        0.0  float64  \n",
       "4                      0                        0.0  float64  \n",
       "5                      0                        0.0    int64  \n",
       "6                      0                        0.0    int64  "
      ]
     },
     "execution_count": 23,
     "metadata": {},
     "output_type": "execute_result"
    }
   ],
   "source": [
    "# using a function to check on the split target\n",
    "function.check_columns(X_validate)"
   ]
  },
  {
   "cell_type": "markdown",
   "id": "457071e5-a52e-41d9-a32c-60fb041fb49c",
   "metadata": {},
   "source": [
    "> ### Baseline and Median"
   ]
  },
  {
   "cell_type": "code",
   "execution_count": 24,
   "id": "a43e3768-e463-4e82-b50e-73071f7afdca",
   "metadata": {
    "tags": []
   },
   "outputs": [
    {
     "data": {
      "text/plain": [
       "460846.25053635077"
      ]
     },
     "execution_count": 24,
     "metadata": {},
     "output_type": "execute_result"
    }
   ],
   "source": [
    "# taking the baseline and save it to a variable\n",
    "pred_mean = y_train.mean()[0]\n",
    "pred_mean"
   ]
  },
  {
   "cell_type": "code",
   "execution_count": 25,
   "id": "98af500f-0925-4a99-8b64-a88300def5b5",
   "metadata": {
    "tags": []
   },
   "outputs": [
    {
     "data": {
      "text/plain": [
       "328400.0"
      ]
     },
     "execution_count": 25,
     "metadata": {},
     "output_type": "execute_result"
    }
   ],
   "source": [
    "# taking the median \n",
    "pred_median = y_train.median()[0]\n",
    "pred_median"
   ]
  },
  {
   "cell_type": "code",
   "execution_count": 26,
   "id": "fd9aceb1-d376-4ea3-ad53-573ddb95186e",
   "metadata": {
    "tags": []
   },
   "outputs": [
    {
     "name": "stdout",
     "output_type": "stream",
     "text": [
      "Mean Model\n",
      "RMSE Train: 688054.7194082882 \n",
      "RMSE validate: 662210.5845311697\n",
      "\n",
      "Median Model\n",
      "RMSE Train: 688054.7194082882 \n",
      "RMSE validate: 662210.5845311697\n"
     ]
    }
   ],
   "source": [
    "# taking the baseline and save it to a variable\n",
    "pred_mean = y_train.mean()[0]\n",
    "# taking the median \n",
    "pred_median = y_train.median()[0]\n",
    "\n",
    "# assigning the baseline in a new column to y_train and y_validate\n",
    "y_train = y_train.assign(pred_mean=pred_mean)\n",
    "y_validate = y_validate.assign(pred_mean=pred_mean)\n",
    "\n",
    "# assigning the median in a new column to y_train and y_validate\n",
    "y_train = y_train.assign(pred_median=pred_median)\n",
    "y_validate = y_validate.assign(pred_median=pred_median)\n",
    "\n",
    "# finding out the rmse for the mean value from y_train and y_validate\n",
    "rmse_baseline_train = mean_squared_error(y_train.property_value, y_train.pred_mean) ** .5\n",
    "rmse_baseline_validate = mean_squared_error(y_validate.property_value, y_validate.pred_mean) ** .5\n",
    "\n",
    "# finding out the r2 for the mean value from y_train and y_validate\n",
    "r2_baseline_train = r2_score(y_train.property_value, y_train.pred_mean)\n",
    "r2_baseline_validate = r2_score(y_validate.property_value, y_validate.pred_mean)\n",
    "\n",
    "# printing the rmse values for the baseline mean \n",
    "print(f'Mean Model')\n",
    "print(f'RMSE Train: {rmse_baseline_train} \\nRMSE validate: {rmse_baseline_validate}\\n')\n",
    "\n",
    "# creating a dictionary for rmse and r2 from the baseline\n",
    "metrics_info = {\n",
    "                'Model':'baseline_mean',\n",
    "                'RMSE_train':rmse_baseline_train,\n",
    "                'RMSE_validate':rmse_baseline_validate,\n",
    "                'r2_train':r2_baseline_train,\n",
    "                'r2_validate':r2_baseline_validate\n",
    "                }\n",
    "metrics_list = [metrics_info]\n",
    "\n",
    "# finding out the rmse for the median from y_train and y_validate\n",
    "rmse_median_train = mean_squared_error(y_train.property_value, y_train.pred_median) ** .5\n",
    "rmse_median_validate = mean_squared_error(y_validate.property_value, y_validate.pred_median) ** .5\n",
    "\n",
    "# finding out the r2 for the median from y_train and y_validate\n",
    "r2_median_train = r2_score(y_train.property_value, y_train.pred_median)\n",
    "r2_median_validate = r2_score(y_validate.property_value, y_validate.pred_median)\n",
    "\n",
    "# printing the r2 values for the baseline median\n",
    "print(f'Median Model')\n",
    "print(f'RMSE Train: {rmse_baseline_train} \\nRMSE validate: {rmse_baseline_validate}')\n",
    "\n",
    "# adding the rmse and r2 from median to the dictionary\n",
    "metrics_info = {\n",
    "                'Model':'baseline_median',\n",
    "                'RMSE_train':rmse_median_train,\n",
    "                'RMSE_validate':rmse_median_validate,\n",
    "                'r2_train':r2_median_train,\n",
    "                'r2_validate':r2_median_validate\n",
    "                }\n",
    "metrics_list.append(metrics_info)"
   ]
  },
  {
   "cell_type": "code",
   "execution_count": 46,
   "id": "667dea40-555a-47fc-b8af-70cfeccef9f1",
   "metadata": {
    "tags": []
   },
   "outputs": [],
   "source": [
    "def evaluate_pred(y, yhat):\n",
    "    '''\n",
    "    This function will take target variable and the target prediction\n",
    "    Example of y: y_train[['property_value']]\n",
    "    Example of yhat: lr = LinearRegression()\n",
    "                    lr.predict(X_train)\n",
    "    \n",
    "    Input: y, yhat\n",
    "    Output: rmse, r2\n",
    "    '''\n",
    "    \n",
    "    rmse = mean_squared_error(y, yhat, squared=False) ** .5\n",
    "    r2 = r2_score(y, yhat) \n",
    "    \n",
    "    print(f'RMSE: {rmse}\\n r2: {r2}')\n",
    "    \n",
    "    return rmse, r2"
   ]
  },
  {
   "cell_type": "code",
   "execution_count": 51,
   "id": "1c10d084-5f25-43cb-81d2-6542b8c1260a",
   "metadata": {
    "tags": []
   },
   "outputs": [
    {
     "name": "stdout",
     "output_type": "stream",
     "text": [
      "RMSE: 297.9364416131964\n",
      " r2: 0.9833563509412161\n"
     ]
    }
   ],
   "source": [
    "rmse, r2 = evaluate_pred(y_train[['property_value']], lr.predict(X_train))"
   ]
  },
  {
   "cell_type": "code",
   "execution_count": 49,
   "id": "134f18ea-033b-4e14-8c89-b77b5d2994c7",
   "metadata": {
    "tags": []
   },
   "outputs": [
    {
     "data": {
      "text/plain": [
       "(297.9364416131964, 0.9833563509412161)"
      ]
     },
     "execution_count": 49,
     "metadata": {},
     "output_type": "execute_result"
    }
   ],
   "source": [
    "rmse, r2"
   ]
  },
  {
   "cell_type": "markdown",
   "id": "75d2e5b4-8fb6-42a8-b536-501a2a33c777",
   "metadata": {},
   "source": [
    "> ### Linear Regression "
   ]
  },
  {
   "cell_type": "code",
   "execution_count": 50,
   "id": "a59f01e1-694f-491f-9415-be23f9b440bb",
   "metadata": {
    "tags": []
   },
   "outputs": [
    {
     "name": "stdout",
     "output_type": "stream",
     "text": [
      "LinearRegression Model\n",
      "RMSE Train: 688054.7194082882 \n",
      "RMSE validate: 662210.5845311697\n"
     ]
    }
   ],
   "source": [
    "# creating the model\n",
    "lr = LinearRegression()\n",
    "\n",
    "# fit the model \n",
    "lr.fit(X_train, y_train[['property_value']])\n",
    "\n",
    "# trying to predict and assigning the values to y_train and y_validate\n",
    "y_train = y_train.assign(pred_LinearRegression=lr.predict(X_train))\n",
    "y_validate = y_validate.assign(pred_LinearRegression=lr.predict(X_validate))\n",
    "\n",
    "# taking the rmse \n",
    "rmse_median_train = mean_squared_error(y_train[['property_value']], y_train.pred_LinearRegression) ** .5\n",
    "rmse_median_validate = mean_squared_error(y_validate[['property_value']], y_validate.pred_LinearRegression) ** .5\n",
    "\n",
    "# taking the r2\n",
    "r2_median_train = r2_score(y_train[['property_value']], y_train.pred_LinearRegression)\n",
    "r2_median_validate = r2_score(y_validate[['property_value']], y_validate.pred_LinearRegression)\n",
    "\n",
    "# printing the rmse values for LinearRegression\n",
    "print(f'LinearRegression Model')\n",
    "print(f'RMSE Train: {rmse_baseline_train} \\nRMSE validate: {rmse_baseline_validate}')\n",
    "\n",
    "# adding the rmse and r2 information of LinearRegression to the dictionary\n",
    "metrics_info = {\n",
    "                'Model':'LinearRegression',\n",
    "                'RMSE_train':rmse_median_train,\n",
    "                'RMSE_validate':rmse_median_validate,\n",
    "                'r2_train':r2_median_train,\n",
    "                'r2_validate':r2_median_validate\n",
    "                }\n",
    "metrics_list.append(metrics_info)"
   ]
  },
  {
   "cell_type": "markdown",
   "id": "b38979df-eabb-4555-b702-50b918ea7c17",
   "metadata": {},
   "source": [
    "> ### LassoLars"
   ]
  },
  {
   "cell_type": "code",
   "execution_count": 28,
   "id": "1fe3c026-cfca-4b9e-b6a9-e822c8678829",
   "metadata": {
    "tags": []
   },
   "outputs": [
    {
     "name": "stdout",
     "output_type": "stream",
     "text": [
      "LassoLars Model\n",
      "RMSE Train: 688054.7194082882 \n",
      "RMSE validate: 662210.5845311697\n"
     ]
    }
   ],
   "source": [
    "# creating the model\n",
    "ll = LassoLars(alpha=1, normalize=False)\n",
    "\n",
    "# fit the model\n",
    "ll.fit(X_train, y_train[['property_value']])\n",
    "\n",
    "# trying to predict and assigning the values to y_train and y_validate\n",
    "y_train = y_train.assign(pred_LassoLars=ll.predict(X_train))\n",
    "y_validate = y_validate.assign(pred_LassoLars=ll.predict(X_validate))\n",
    "\n",
    "# taking the rmse\n",
    "rmse_median_train = mean_squared_error(y_train[['property_value']], y_train.pred_LassoLars) ** .5\n",
    "rmse_median_validate = mean_squared_error(y_validate[['property_value']], y_validate.pred_LassoLars) ** .5\n",
    "\n",
    "# taking the r2\n",
    "r2_median_train = r2_score(y_train[['property_value']], y_train.pred_LassoLars)\n",
    "r2_median_validate = r2_score(y_validate[['property_value']], y_validate.pred_LassoLars)\n",
    "\n",
    "# printing the rmse values for LassoLars\n",
    "print(f'LassoLars Model')\n",
    "print(f'RMSE Train: {rmse_baseline_train} \\nRMSE validate: {rmse_baseline_validate}')\n",
    "\n",
    "# adding the rmse and r2 information of LassoLars to the dictionary\n",
    "metrics_info = {\n",
    "                'Model':'LassoLars',\n",
    "                'RMSE_train':rmse_median_train,\n",
    "                'RMSE_validate':rmse_median_validate,\n",
    "                'r2_train':r2_median_train,\n",
    "                'r2_validate':r2_median_validate\n",
    "                }\n",
    "metrics_list.append(metrics_info)"
   ]
  },
  {
   "cell_type": "markdown",
   "id": "5faee688-bf4a-407b-8827-f9d0e7fe7574",
   "metadata": {},
   "source": [
    "> ### PolynomialFeatures"
   ]
  },
  {
   "cell_type": "code",
   "execution_count": 29,
   "id": "83eba1ce-7077-4f68-ae7d-c120b9fd4b19",
   "metadata": {
    "tags": []
   },
   "outputs": [
    {
     "name": "stdout",
     "output_type": "stream",
     "text": [
      "PolynomialFeatures Model\n",
      "RMSE Train: 688054.7194082882 \n",
      "RMSE validate: 662210.5845311697\n"
     ]
    }
   ],
   "source": [
    "# creating PolynomialFeatures model\n",
    "pf = PolynomialFeatures(degree=2)\n",
    "\n",
    "# fit the model\n",
    "X_train_d2 = pf.fit_transform(X_train)\n",
    "X_validate_d2 = pf.transform(X_validate)\n",
    "\n",
    "# Create LinearRegression object\n",
    "lp = LinearRegression()\n",
    "\n",
    "# Fit the model to the training data\n",
    "lp.fit(X_train_d2, y_train[['property_value']])\n",
    "\n",
    "# Make predictions on the training and validation sets\n",
    "y_train = y_train.assign(pred_PoloynomialFeatures=lp.predict(X_train_d2))\n",
    "y_validate = y_validate.assign(pred_PoloynomialFeatures=lp.predict(X_validate_d2))\n",
    "\n",
    "# Calculating RMSE for the model on both the training and validation sets\n",
    "rmse_median_train = mean_squared_error(y_train[['property_value']], y_train.pred_PoloynomialFeatures) ** .5\n",
    "rmse_median_validate = mean_squared_error(y_validate[['property_value']], y_validate.pred_PoloynomialFeatures) ** .5\n",
    "\n",
    "# Calculating r2 score \n",
    "r2_median_train = r2_score(y_train[['property_value']], y_train.pred_PoloynomialFeatures)\n",
    "r2_median_validate = r2_score(y_validate[['property_value']], y_validate.pred_PoloynomialFeatures)\n",
    "\n",
    "# printing the rmse values for PolynomialFeatures\n",
    "print(f'PolynomialFeatures Model')\n",
    "print(f'RMSE Train: {rmse_baseline_train} \\nRMSE validate: {rmse_baseline_validate}')\n",
    "\n",
    "# adding the rmse and r2 information of PolynomialFeatures to the dictionary\n",
    "metrics_info = {\n",
    "                'Model':'PolynomialFeatures',\n",
    "                'RMSE_train':rmse_median_train,\n",
    "                'RMSE_validate':rmse_median_validate,\n",
    "                'r2_train':r2_median_train,\n",
    "                'r2_validate':r2_median_validate\n",
    "                }\n",
    "metrics_list.append(metrics_info)"
   ]
  },
  {
   "cell_type": "markdown",
   "id": "91e5f2fd-8ecb-41e7-858d-b32129f05a85",
   "metadata": {},
   "source": [
    "> ### TweediRegressor (GLM)"
   ]
  },
  {
   "cell_type": "code",
   "execution_count": 30,
   "id": "4ce5f273-1387-4c83-add5-2fdbb24075d1",
   "metadata": {
    "tags": []
   },
   "outputs": [
    {
     "name": "stdout",
     "output_type": "stream",
     "text": [
      "TweediRegressor Model\n",
      "RMSE Train: 688054.7194082882 \n",
      "RMSE validate: 662210.5845311697\n"
     ]
    }
   ],
   "source": [
    "# creating the TweediRegressor model\n",
    "tr = TweedieRegressor(power=1, alpha=0)\n",
    "\n",
    "# fit the model\n",
    "tr.fit(X_train, y_train[['property_value']])\n",
    "\n",
    "# Make predictions on the training and validation sets\n",
    "y_train = y_train.assign(pred_TweedieRegressor=tr.predict(X_train))\n",
    "y_validate = y_validate.assign(pred_TweedieRegressor=tr.predict(X_validate))\n",
    "\n",
    "# Calculating RMSE scores for the model on both the training and validation sets\n",
    "rmse_median_train = mean_squared_error(y_train[['property_value']], y_train.pred_TweedieRegressor) ** .5\n",
    "rmse_median_validate = mean_squared_error(y_validate[['property_value']], y_validate.pred_TweedieRegressor) ** .5\n",
    "\n",
    "# Calculating r2 score for the model on training and validation sets\n",
    "r2_median_train = r2_score(y_train[['property_value']], y_train.pred_TweedieRegressor)\n",
    "r2_median_validate = r2_score(y_validate[['property_value']], y_validate.pred_TweedieRegressor)\n",
    "\n",
    "# printing the rmse and r2 information of TweediRegressor \n",
    "print(f'TweedieRegressor Model')\n",
    "print(f'RMSE Train: {rmse_baseline_train} \\nRMSE validate: {rmse_baseline_validate}')\n",
    "\n",
    "# adding the rmse and r2 information of TweedieRegressor to the dictionary\n",
    "metrics_info = {\n",
    "                'Model':'TweediRegressor',\n",
    "                'RMSE_train':rmse_median_train,\n",
    "                'RMSE_validate':rmse_median_validate,\n",
    "                'r2_train':r2_median_train,\n",
    "                'r2_validate':r2_median_validate\n",
    "                }\n",
    "metrics_list.append(metrics_info)"
   ]
  },
  {
   "cell_type": "code",
   "execution_count": 31,
   "id": "8e9c8739-5648-42b9-a324-3e997182ad87",
   "metadata": {
    "tags": []
   },
   "outputs": [
    {
     "data": {
      "text/html": [
       "<div>\n",
       "<style scoped>\n",
       "    .dataframe tbody tr th:only-of-type {\n",
       "        vertical-align: middle;\n",
       "    }\n",
       "\n",
       "    .dataframe tbody tr th {\n",
       "        vertical-align: top;\n",
       "    }\n",
       "\n",
       "    .dataframe thead th {\n",
       "        text-align: right;\n",
       "    }\n",
       "</style>\n",
       "<table border=\"1\" class=\"dataframe\">\n",
       "  <thead>\n",
       "    <tr style=\"text-align: right;\">\n",
       "      <th></th>\n",
       "      <th>property_value</th>\n",
       "      <th>pred_mean</th>\n",
       "      <th>pred_median</th>\n",
       "      <th>pred_LinearRegression</th>\n",
       "      <th>pred_LassoLars</th>\n",
       "      <th>pred_PoloynomialFeatures</th>\n",
       "      <th>pred_TweedieRegressor</th>\n",
       "    </tr>\n",
       "  </thead>\n",
       "  <tbody>\n",
       "    <tr>\n",
       "      <th>462820</th>\n",
       "      <td>710674.0</td>\n",
       "      <td>460846.250536</td>\n",
       "      <td>328400.0</td>\n",
       "      <td>6.484227e+05</td>\n",
       "      <td>6.484134e+05</td>\n",
       "      <td>6.394968e+05</td>\n",
       "      <td>460846.250536</td>\n",
       "    </tr>\n",
       "    <tr>\n",
       "      <th>3880</th>\n",
       "      <td>603333.0</td>\n",
       "      <td>460846.250536</td>\n",
       "      <td>328400.0</td>\n",
       "      <td>5.691539e+05</td>\n",
       "      <td>5.691584e+05</td>\n",
       "      <td>5.753605e+05</td>\n",
       "      <td>460846.250536</td>\n",
       "    </tr>\n",
       "    <tr>\n",
       "      <th>992263</th>\n",
       "      <td>82804.0</td>\n",
       "      <td>460846.250536</td>\n",
       "      <td>328400.0</td>\n",
       "      <td>5.766449e+04</td>\n",
       "      <td>5.767076e+04</td>\n",
       "      <td>7.092538e+04</td>\n",
       "      <td>460846.250536</td>\n",
       "    </tr>\n",
       "    <tr>\n",
       "      <th>311722</th>\n",
       "      <td>355444.0</td>\n",
       "      <td>460846.250536</td>\n",
       "      <td>328400.0</td>\n",
       "      <td>3.581336e+05</td>\n",
       "      <td>3.581229e+05</td>\n",
       "      <td>3.447684e+05</td>\n",
       "      <td>460846.250536</td>\n",
       "    </tr>\n",
       "    <tr>\n",
       "      <th>787985</th>\n",
       "      <td>571000.0</td>\n",
       "      <td>460846.250536</td>\n",
       "      <td>328400.0</td>\n",
       "      <td>5.695099e+05</td>\n",
       "      <td>5.695178e+05</td>\n",
       "      <td>5.761497e+05</td>\n",
       "      <td>460846.250536</td>\n",
       "    </tr>\n",
       "    <tr>\n",
       "      <th>...</th>\n",
       "      <td>...</td>\n",
       "      <td>...</td>\n",
       "      <td>...</td>\n",
       "      <td>...</td>\n",
       "      <td>...</td>\n",
       "      <td>...</td>\n",
       "      <td>...</td>\n",
       "    </tr>\n",
       "    <tr>\n",
       "      <th>1966409</th>\n",
       "      <td>312978.0</td>\n",
       "      <td>460846.250536</td>\n",
       "      <td>328400.0</td>\n",
       "      <td>3.038573e+05</td>\n",
       "      <td>3.038620e+05</td>\n",
       "      <td>3.130042e+05</td>\n",
       "      <td>460846.250536</td>\n",
       "    </tr>\n",
       "    <tr>\n",
       "      <th>1248263</th>\n",
       "      <td>417545.0</td>\n",
       "      <td>460846.250536</td>\n",
       "      <td>328400.0</td>\n",
       "      <td>3.711475e+05</td>\n",
       "      <td>3.711435e+05</td>\n",
       "      <td>3.641214e+05</td>\n",
       "      <td>460846.250536</td>\n",
       "    </tr>\n",
       "    <tr>\n",
       "      <th>28211</th>\n",
       "      <td>300584.0</td>\n",
       "      <td>460846.250536</td>\n",
       "      <td>328400.0</td>\n",
       "      <td>2.936566e+05</td>\n",
       "      <td>2.936642e+05</td>\n",
       "      <td>2.970579e+05</td>\n",
       "      <td>460846.250536</td>\n",
       "    </tr>\n",
       "    <tr>\n",
       "      <th>279547</th>\n",
       "      <td>1115000.0</td>\n",
       "      <td>460846.250536</td>\n",
       "      <td>328400.0</td>\n",
       "      <td>1.124300e+06</td>\n",
       "      <td>1.124294e+06</td>\n",
       "      <td>1.139589e+06</td>\n",
       "      <td>460846.250536</td>\n",
       "    </tr>\n",
       "    <tr>\n",
       "      <th>778196</th>\n",
       "      <td>62499.0</td>\n",
       "      <td>460846.250536</td>\n",
       "      <td>328400.0</td>\n",
       "      <td>4.175376e+04</td>\n",
       "      <td>4.175445e+04</td>\n",
       "      <td>4.976021e+04</td>\n",
       "      <td>460846.250536</td>\n",
       "    </tr>\n",
       "  </tbody>\n",
       "</table>\n",
       "<p>1284141 rows × 7 columns</p>\n",
       "</div>"
      ],
      "text/plain": [
       "         property_value      pred_mean  pred_median  pred_LinearRegression  \\\n",
       "462820         710674.0  460846.250536     328400.0           6.484227e+05   \n",
       "3880           603333.0  460846.250536     328400.0           5.691539e+05   \n",
       "992263          82804.0  460846.250536     328400.0           5.766449e+04   \n",
       "311722         355444.0  460846.250536     328400.0           3.581336e+05   \n",
       "787985         571000.0  460846.250536     328400.0           5.695099e+05   \n",
       "...                 ...            ...          ...                    ...   \n",
       "1966409        312978.0  460846.250536     328400.0           3.038573e+05   \n",
       "1248263        417545.0  460846.250536     328400.0           3.711475e+05   \n",
       "28211          300584.0  460846.250536     328400.0           2.936566e+05   \n",
       "279547        1115000.0  460846.250536     328400.0           1.124300e+06   \n",
       "778196          62499.0  460846.250536     328400.0           4.175376e+04   \n",
       "\n",
       "         pred_LassoLars  pred_PoloynomialFeatures  pred_TweedieRegressor  \n",
       "462820     6.484134e+05              6.394968e+05          460846.250536  \n",
       "3880       5.691584e+05              5.753605e+05          460846.250536  \n",
       "992263     5.767076e+04              7.092538e+04          460846.250536  \n",
       "311722     3.581229e+05              3.447684e+05          460846.250536  \n",
       "787985     5.695178e+05              5.761497e+05          460846.250536  \n",
       "...                 ...                       ...                    ...  \n",
       "1966409    3.038620e+05              3.130042e+05          460846.250536  \n",
       "1248263    3.711435e+05              3.641214e+05          460846.250536  \n",
       "28211      2.936642e+05              2.970579e+05          460846.250536  \n",
       "279547     1.124294e+06              1.139589e+06          460846.250536  \n",
       "778196     4.175445e+04              4.976021e+04          460846.250536  \n",
       "\n",
       "[1284141 rows x 7 columns]"
      ]
     },
     "execution_count": 31,
     "metadata": {},
     "output_type": "execute_result"
    }
   ],
   "source": [
    "y_train"
   ]
  },
  {
   "cell_type": "code",
   "execution_count": 32,
   "id": "f1751763-0fcd-4ec7-91a3-313406949539",
   "metadata": {
    "tags": []
   },
   "outputs": [],
   "source": [
    "metrics_df = pd.DataFrame(metrics_list)"
   ]
  },
  {
   "cell_type": "code",
   "execution_count": 43,
   "id": "28b6cd46-8362-42aa-9250-7f309d28cd2a",
   "metadata": {
    "tags": []
   },
   "outputs": [
    {
     "data": {
      "text/html": [
       "<div>\n",
       "<style scoped>\n",
       "    .dataframe tbody tr th:only-of-type {\n",
       "        vertical-align: middle;\n",
       "    }\n",
       "\n",
       "    .dataframe tbody tr th {\n",
       "        vertical-align: top;\n",
       "    }\n",
       "\n",
       "    .dataframe thead th {\n",
       "        text-align: right;\n",
       "    }\n",
       "</style>\n",
       "<table border=\"1\" class=\"dataframe\">\n",
       "  <thead>\n",
       "    <tr style=\"text-align: right;\">\n",
       "      <th></th>\n",
       "      <th>Model</th>\n",
       "      <th>RMSE_train</th>\n",
       "      <th>RMSE_validate</th>\n",
       "      <th>r2_train</th>\n",
       "      <th>r2_validate</th>\n",
       "    </tr>\n",
       "  </thead>\n",
       "  <tbody>\n",
       "    <tr>\n",
       "      <th>0</th>\n",
       "      <td>baseline_mean</td>\n",
       "      <td>688054.7194</td>\n",
       "      <td>662210.5845</td>\n",
       "      <td>0.0000</td>\n",
       "      <td>-0.0000</td>\n",
       "    </tr>\n",
       "    <tr>\n",
       "      <th>1</th>\n",
       "      <td>baseline_median</td>\n",
       "      <td>700686.3108</td>\n",
       "      <td>675439.8151</td>\n",
       "      <td>-0.0371</td>\n",
       "      <td>-0.0404</td>\n",
       "    </tr>\n",
       "    <tr>\n",
       "      <th>2</th>\n",
       "      <td>LinearRegression</td>\n",
       "      <td>88766.1232</td>\n",
       "      <td>87911.2916</td>\n",
       "      <td>0.9834</td>\n",
       "      <td>0.9824</td>\n",
       "    </tr>\n",
       "    <tr>\n",
       "      <th>3</th>\n",
       "      <td>LassoLars</td>\n",
       "      <td>88766.1235</td>\n",
       "      <td>87911.1975</td>\n",
       "      <td>0.9834</td>\n",
       "      <td>0.9824</td>\n",
       "    </tr>\n",
       "    <tr>\n",
       "      <th>4</th>\n",
       "      <td>PolynomialFeatures</td>\n",
       "      <td>85332.8265</td>\n",
       "      <td>92613.1296</td>\n",
       "      <td>0.9846</td>\n",
       "      <td>0.9804</td>\n",
       "    </tr>\n",
       "    <tr>\n",
       "      <th>5</th>\n",
       "      <td>TweediRegressor</td>\n",
       "      <td>688054.7194</td>\n",
       "      <td>662210.5845</td>\n",
       "      <td>0.0000</td>\n",
       "      <td>-0.0000</td>\n",
       "    </tr>\n",
       "  </tbody>\n",
       "</table>\n",
       "</div>"
      ],
      "text/plain": [
       "                Model  RMSE_train  RMSE_validate  r2_train  r2_validate\n",
       "0       baseline_mean 688054.7194    662210.5845    0.0000      -0.0000\n",
       "1     baseline_median 700686.3108    675439.8151   -0.0371      -0.0404\n",
       "2    LinearRegression  88766.1232     87911.2916    0.9834       0.9824\n",
       "3           LassoLars  88766.1235     87911.1975    0.9834       0.9824\n",
       "4  PolynomialFeatures  85332.8265     92613.1296    0.9846       0.9804\n",
       "5     TweediRegressor 688054.7194    662210.5845    0.0000      -0.0000"
      ]
     },
     "execution_count": 43,
     "metadata": {},
     "output_type": "execute_result"
    }
   ],
   "source": [
    "pd.options.display.float_format = '{:.4f}'.format\n",
    "metrics_df"
   ]
  },
  {
   "cell_type": "code",
   "execution_count": null,
   "id": "3a9fdda3-8da4-4610-9d97-dcaef94d51b2",
   "metadata": {},
   "outputs": [],
   "source": []
  }
 ],
 "metadata": {
  "kernelspec": {
   "display_name": "Python 3 (ipykernel)",
   "language": "python",
   "name": "python3"
  },
  "language_info": {
   "codemirror_mode": {
    "name": "ipython",
    "version": 3
   },
   "file_extension": ".py",
   "mimetype": "text/x-python",
   "name": "python",
   "nbconvert_exporter": "python",
   "pygments_lexer": "ipython3",
   "version": "3.11.5"
  }
 },
 "nbformat": 4,
 "nbformat_minor": 5
}
